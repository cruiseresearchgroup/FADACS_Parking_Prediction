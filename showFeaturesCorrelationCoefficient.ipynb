{
 "cells": [
  {
   "cell_type": "code",
   "execution_count": 1,
   "metadata": {
    "ExecuteTime": {
     "end_time": "2020-07-03T07:52:39.100981Z",
     "start_time": "2020-07-03T07:52:29.955468Z"
    }
   },
   "outputs": [
    {
     "name": "stderr",
     "output_type": "stream",
     "text": [
      "Using TensorFlow backend.\n"
     ]
    }
   ],
   "source": [
    "import Trier as trier\n",
    "import os\n",
    "\n",
    "import pandas as pd\n",
    "from sklearn.feature_selection import f_regression\n",
    "from IPython.display import HTML, display\n",
    "\n",
    "\n",
    "exp = trier.Experiment()\n",
    "exp.loadConfig(\"./eptest/median-melb-50/exp.json\")\n",
    "#x,y = exp.convertHADataset(\"MelbCity\")\n",
    "\n"
   ]
  },
  {
   "cell_type": "code",
   "execution_count": 2,
   "metadata": {
    "ExecuteTime": {
     "end_time": "2020-07-03T07:23:59.193431Z",
     "start_time": "2020-07-03T07:20:56.118618Z"
    },
    "collapsed": true
   },
   "outputs": [
    {
     "name": "stderr",
     "output_type": "stream",
     "text": [
      "/home/jovyan/work/Notebooks/rmit-parking-prediction/FeatureConvertor.py:115: SettingWithCopyWarning: \n",
      "A value is trying to be set on a copy of a slice from a DataFrame.\n",
      "Try using .loc[row_indexer,col_indexer] = value instead\n",
      "\n",
      "See the caveats in the documentation: http://pandas.pydata.org/pandas-docs/stable/user_guide/indexing.html#returning-a-view-versus-a-copy\n",
      "  df1['day'] = df1[\"datetime\"].str[:10]\n",
      "/home/jovyan/work/Notebooks/rmit-parking-prediction/FeatureConvertor.py:116: SettingWithCopyWarning: \n",
      "A value is trying to be set on a copy of a slice from a DataFrame.\n",
      "Try using .loc[row_indexer,col_indexer] = value instead\n",
      "\n",
      "See the caveats in the documentation: http://pandas.pydata.org/pandas-docs/stable/user_guide/indexing.html#returning-a-view-versus-a-copy\n",
      "  df1['time'] = df1[\"datetime\"].str[11:]\n",
      "/home/jovyan/work/Notebooks/rmit-parking-prediction/FeatureConvertor.py:118: SettingWithCopyWarning: \n",
      "A value is trying to be set on a copy of a slice from a DataFrame.\n",
      "Try using .loc[row_indexer,col_indexer] = value instead\n",
      "\n",
      "See the caveats in the documentation: http://pandas.pydata.org/pandas-docs/stable/user_guide/indexing.html#returning-a-view-versus-a-copy\n",
      "  df1[\"wd\"] = df1.apply(lambda row: arrow.get(row[\"datetime\"]).format(\"d\"), axis=1)\n",
      "/home/jovyan/work/Notebooks/rmit-parking-prediction/FeatureConvertor.py:130: SettingWithCopyWarning: \n",
      "A value is trying to be set on a copy of a slice from a DataFrame.\n",
      "Try using .loc[row_indexer,col_indexer] = value instead\n",
      "\n",
      "See the caveats in the documentation: http://pandas.pydata.org/pandas-docs/stable/user_guide/indexing.html#returning-a-view-versus-a-copy\n",
      "  dx[\"datetime\"] = t+\" \"+dx[\"time\"]\n",
      "/home/jovyan/work/Notebooks/rmit-parking-prediction/FeatureConvertor.py:141: SettingWithCopyWarning: \n",
      "A value is trying to be set on a copy of a slice from a DataFrame.\n",
      "Try using .loc[row_indexer,col_indexer] = value instead\n",
      "\n",
      "See the caveats in the documentation: http://pandas.pydata.org/pandas-docs/stable/user_guide/indexing.html#returning-a-view-versus-a-copy\n",
      "  dx[\"datetime\"] = end.format(\"YYYY-MM-DD HH:mm\")\n",
      "/home/jovyan/work/Notebooks/rmit-parking-prediction/FeatureConvertor.py:192: SettingWithCopyWarning: \n",
      "A value is trying to be set on a copy of a slice from a DataFrame.\n",
      "Try using .loc[row_indexer,col_indexer] = value instead\n",
      "\n",
      "See the caveats in the documentation: http://pandas.pydata.org/pandas-docs/stable/user_guide/indexing.html#returning-a-view-versus-a-copy\n",
      "  df1['day'] = df1[\"datetime\"].str[:10]\n",
      "/home/jovyan/work/Notebooks/rmit-parking-prediction/FeatureConvertor.py:193: SettingWithCopyWarning: \n",
      "A value is trying to be set on a copy of a slice from a DataFrame.\n",
      "Try using .loc[row_indexer,col_indexer] = value instead\n",
      "\n",
      "See the caveats in the documentation: http://pandas.pydata.org/pandas-docs/stable/user_guide/indexing.html#returning-a-view-versus-a-copy\n",
      "  df1['time'] = df1[\"datetime\"].str[11:]\n",
      "/home/jovyan/work/Notebooks/rmit-parking-prediction/FeatureConvertor.py:195: SettingWithCopyWarning: \n",
      "A value is trying to be set on a copy of a slice from a DataFrame.\n",
      "Try using .loc[row_indexer,col_indexer] = value instead\n",
      "\n",
      "See the caveats in the documentation: http://pandas.pydata.org/pandas-docs/stable/user_guide/indexing.html#returning-a-view-versus-a-copy\n",
      "  df1[\"wd\"] = df1.apply(lambda row: arrow.get(row[\"datetime\"]).format(\"d\"), axis=1)\n",
      "/home/jovyan/work/Notebooks/rmit-parking-prediction/FeatureConvertor.py:222: SettingWithCopyWarning: \n",
      "A value is trying to be set on a copy of a slice from a DataFrame.\n",
      "Try using .loc[row_indexer,col_indexer] = value instead\n",
      "\n",
      "See the caveats in the documentation: http://pandas.pydata.org/pandas-docs/stable/user_guide/indexing.html#returning-a-view-versus-a-copy\n",
      "  dx[\"datetime\"] = t+\" \"+dx[\"time\"]\n",
      "/home/jovyan/work/Notebooks/rmit-parking-prediction/FeatureConvertor.py:233: SettingWithCopyWarning: \n",
      "A value is trying to be set on a copy of a slice from a DataFrame.\n",
      "Try using .loc[row_indexer,col_indexer] = value instead\n",
      "\n",
      "See the caveats in the documentation: http://pandas.pydata.org/pandas-docs/stable/user_guide/indexing.html#returning-a-view-versus-a-copy\n",
      "  dx[\"datetime\"] = end.format(\"YYYY-MM-DD HH:mm\")\n",
      "/home/jovyan/work/Notebooks/rmit-parking-prediction/FeatureConvertor.py:115: SettingWithCopyWarning: \n",
      "A value is trying to be set on a copy of a slice from a DataFrame.\n",
      "Try using .loc[row_indexer,col_indexer] = value instead\n",
      "\n",
      "See the caveats in the documentation: http://pandas.pydata.org/pandas-docs/stable/user_guide/indexing.html#returning-a-view-versus-a-copy\n",
      "  df1['day'] = df1[\"datetime\"].str[:10]\n",
      "/home/jovyan/work/Notebooks/rmit-parking-prediction/FeatureConvertor.py:116: SettingWithCopyWarning: \n",
      "A value is trying to be set on a copy of a slice from a DataFrame.\n",
      "Try using .loc[row_indexer,col_indexer] = value instead\n",
      "\n",
      "See the caveats in the documentation: http://pandas.pydata.org/pandas-docs/stable/user_guide/indexing.html#returning-a-view-versus-a-copy\n",
      "  df1['time'] = df1[\"datetime\"].str[11:]\n",
      "/home/jovyan/work/Notebooks/rmit-parking-prediction/FeatureConvertor.py:118: SettingWithCopyWarning: \n",
      "A value is trying to be set on a copy of a slice from a DataFrame.\n",
      "Try using .loc[row_indexer,col_indexer] = value instead\n",
      "\n",
      "See the caveats in the documentation: http://pandas.pydata.org/pandas-docs/stable/user_guide/indexing.html#returning-a-view-versus-a-copy\n",
      "  df1[\"wd\"] = df1.apply(lambda row: arrow.get(row[\"datetime\"]).format(\"d\"), axis=1)\n",
      "/home/jovyan/work/Notebooks/rmit-parking-prediction/FeatureConvertor.py:130: SettingWithCopyWarning: \n",
      "A value is trying to be set on a copy of a slice from a DataFrame.\n",
      "Try using .loc[row_indexer,col_indexer] = value instead\n",
      "\n",
      "See the caveats in the documentation: http://pandas.pydata.org/pandas-docs/stable/user_guide/indexing.html#returning-a-view-versus-a-copy\n",
      "  dx[\"datetime\"] = t+\" \"+dx[\"time\"]\n",
      "/home/jovyan/work/Notebooks/rmit-parking-prediction/FeatureConvertor.py:141: SettingWithCopyWarning: \n",
      "A value is trying to be set on a copy of a slice from a DataFrame.\n",
      "Try using .loc[row_indexer,col_indexer] = value instead\n",
      "\n",
      "See the caveats in the documentation: http://pandas.pydata.org/pandas-docs/stable/user_guide/indexing.html#returning-a-view-versus-a-copy\n",
      "  dx[\"datetime\"] = end.format(\"YYYY-MM-DD HH:mm\")\n"
     ]
    },
    {
     "data": {
      "text/html": [
       "<table><tr><th>Features</th><th>Pearson<p>Correlation<p>Coefficient</th><th>F Value</th><th>p-Value</th></tr><tr><td>num_of_open_poi1.0</td><td>      0.34</td><td>  51742.63</td><td>0</td></tr><tr><td>num_of_open_poi0.5</td><td>      0.33</td><td>  48513.95</td><td>0</td></tr><tr><td>Temp</td><td>      0.23</td><td>  21622.33</td><td>0</td></tr><tr><td>Hour</td><td>      0.16</td><td>   9896.81</td><td>0</td></tr><tr><td>Wind</td><td>      0.13</td><td>   6871.60</td><td>0</td></tr><tr><td>num_of_poi0.5</td><td>      0.09</td><td>   3356.62</td><td>0</td></tr><tr><td>DayOfWeek</td><td>      0.07</td><td>   2063.57</td><td>0</td></tr><tr><td>num_of_poi1.0</td><td>      0.05</td><td>   1149.31</td><td>1.48e-251</td></tr><tr><td>availability</td><td>      0.02</td><td>    108.92</td><td>1.70e-25</td></tr><tr><td>DayOfMonth</td><td>      0.01</td><td>     78.61</td><td>7.60e-19</td></tr><tr><td>Humidity</td><td>     -0.25</td><td>  26409.49</td><td>0</td></tr><tr><td>min_dis1.0</td><td>     -0.04</td><td>    570.99</td><td>4.22e-126</td></tr><tr><td>min_dis0.5</td><td>     -0.04</td><td>    570.99</td><td>4.22e-126</td></tr><tr><td>Extreme_weather</td><td>     -0.03</td><td>    275.92</td><td>6.13e-62</td></tr><tr><td>Barometer</td><td>     -0.01</td><td>     22.81</td><td>1.79e-06</td></tr></table>"
      ],
      "text/plain": [
       "<IPython.core.display.HTML object>"
      ]
     },
     "metadata": {},
     "output_type": "display_data"
    }
   ],
   "source": [
    "exp.showFeaturesCorrelationCoefficient(\"MelbCity\",\"02/01/2017\",\"02/28/2017\")"
   ]
  },
  {
   "cell_type": "code",
   "execution_count": 3,
   "metadata": {
    "ExecuteTime": {
     "end_time": "2020-07-03T07:25:33.228910Z",
     "start_time": "2020-07-03T07:23:59.335555Z"
    },
    "collapsed": true
   },
   "outputs": [
    {
     "name": "stderr",
     "output_type": "stream",
     "text": [
      "/home/jovyan/work/Notebooks/rmit-parking-prediction/Trier.py:202: DtypeWarning: Columns (0) have mixed types. Specify dtype option on import or set low_memory=False.\n",
      "  p1 = _getParkingIdDataset(id,self.config[\"interval\"],start,end,features,location=location)\n",
      "/home/jovyan/work/Notebooks/rmit-parking-prediction/FeatureConvertor.py:115: SettingWithCopyWarning: \n",
      "A value is trying to be set on a copy of a slice from a DataFrame.\n",
      "Try using .loc[row_indexer,col_indexer] = value instead\n",
      "\n",
      "See the caveats in the documentation: http://pandas.pydata.org/pandas-docs/stable/user_guide/indexing.html#returning-a-view-versus-a-copy\n",
      "  df1['day'] = df1[\"datetime\"].str[:10]\n",
      "/home/jovyan/work/Notebooks/rmit-parking-prediction/FeatureConvertor.py:116: SettingWithCopyWarning: \n",
      "A value is trying to be set on a copy of a slice from a DataFrame.\n",
      "Try using .loc[row_indexer,col_indexer] = value instead\n",
      "\n",
      "See the caveats in the documentation: http://pandas.pydata.org/pandas-docs/stable/user_guide/indexing.html#returning-a-view-versus-a-copy\n",
      "  df1['time'] = df1[\"datetime\"].str[11:]\n",
      "/home/jovyan/work/Notebooks/rmit-parking-prediction/FeatureConvertor.py:118: SettingWithCopyWarning: \n",
      "A value is trying to be set on a copy of a slice from a DataFrame.\n",
      "Try using .loc[row_indexer,col_indexer] = value instead\n",
      "\n",
      "See the caveats in the documentation: http://pandas.pydata.org/pandas-docs/stable/user_guide/indexing.html#returning-a-view-versus-a-copy\n",
      "  df1[\"wd\"] = df1.apply(lambda row: arrow.get(row[\"datetime\"]).format(\"d\"), axis=1)\n",
      "/home/jovyan/work/Notebooks/rmit-parking-prediction/FeatureConvertor.py:130: SettingWithCopyWarning: \n",
      "A value is trying to be set on a copy of a slice from a DataFrame.\n",
      "Try using .loc[row_indexer,col_indexer] = value instead\n",
      "\n",
      "See the caveats in the documentation: http://pandas.pydata.org/pandas-docs/stable/user_guide/indexing.html#returning-a-view-versus-a-copy\n",
      "  dx[\"datetime\"] = t+\" \"+dx[\"time\"]\n",
      "/home/jovyan/work/Notebooks/rmit-parking-prediction/FeatureConvertor.py:141: SettingWithCopyWarning: \n",
      "A value is trying to be set on a copy of a slice from a DataFrame.\n",
      "Try using .loc[row_indexer,col_indexer] = value instead\n",
      "\n",
      "See the caveats in the documentation: http://pandas.pydata.org/pandas-docs/stable/user_guide/indexing.html#returning-a-view-versus-a-copy\n",
      "  dx[\"datetime\"] = end.format(\"YYYY-MM-DD HH:mm\")\n",
      "/home/jovyan/work/Notebooks/rmit-parking-prediction/FeatureConvertor.py:192: SettingWithCopyWarning: \n",
      "A value is trying to be set on a copy of a slice from a DataFrame.\n",
      "Try using .loc[row_indexer,col_indexer] = value instead\n",
      "\n",
      "See the caveats in the documentation: http://pandas.pydata.org/pandas-docs/stable/user_guide/indexing.html#returning-a-view-versus-a-copy\n",
      "  df1['day'] = df1[\"datetime\"].str[:10]\n",
      "/home/jovyan/work/Notebooks/rmit-parking-prediction/FeatureConvertor.py:193: SettingWithCopyWarning: \n",
      "A value is trying to be set on a copy of a slice from a DataFrame.\n",
      "Try using .loc[row_indexer,col_indexer] = value instead\n",
      "\n",
      "See the caveats in the documentation: http://pandas.pydata.org/pandas-docs/stable/user_guide/indexing.html#returning-a-view-versus-a-copy\n",
      "  df1['time'] = df1[\"datetime\"].str[11:]\n",
      "/home/jovyan/work/Notebooks/rmit-parking-prediction/FeatureConvertor.py:195: SettingWithCopyWarning: \n",
      "A value is trying to be set on a copy of a slice from a DataFrame.\n",
      "Try using .loc[row_indexer,col_indexer] = value instead\n",
      "\n",
      "See the caveats in the documentation: http://pandas.pydata.org/pandas-docs/stable/user_guide/indexing.html#returning-a-view-versus-a-copy\n",
      "  df1[\"wd\"] = df1.apply(lambda row: arrow.get(row[\"datetime\"]).format(\"d\"), axis=1)\n",
      "/home/jovyan/work/Notebooks/rmit-parking-prediction/FeatureConvertor.py:222: SettingWithCopyWarning: \n",
      "A value is trying to be set on a copy of a slice from a DataFrame.\n",
      "Try using .loc[row_indexer,col_indexer] = value instead\n",
      "\n",
      "See the caveats in the documentation: http://pandas.pydata.org/pandas-docs/stable/user_guide/indexing.html#returning-a-view-versus-a-copy\n",
      "  dx[\"datetime\"] = t+\" \"+dx[\"time\"]\n",
      "/home/jovyan/work/Notebooks/rmit-parking-prediction/FeatureConvertor.py:233: SettingWithCopyWarning: \n",
      "A value is trying to be set on a copy of a slice from a DataFrame.\n",
      "Try using .loc[row_indexer,col_indexer] = value instead\n",
      "\n",
      "See the caveats in the documentation: http://pandas.pydata.org/pandas-docs/stable/user_guide/indexing.html#returning-a-view-versus-a-copy\n",
      "  dx[\"datetime\"] = end.format(\"YYYY-MM-DD HH:mm\")\n",
      "/home/jovyan/work/Notebooks/rmit-parking-prediction/FeatureConvertor.py:115: SettingWithCopyWarning: \n",
      "A value is trying to be set on a copy of a slice from a DataFrame.\n",
      "Try using .loc[row_indexer,col_indexer] = value instead\n",
      "\n",
      "See the caveats in the documentation: http://pandas.pydata.org/pandas-docs/stable/user_guide/indexing.html#returning-a-view-versus-a-copy\n",
      "  df1['day'] = df1[\"datetime\"].str[:10]\n",
      "/home/jovyan/work/Notebooks/rmit-parking-prediction/FeatureConvertor.py:116: SettingWithCopyWarning: \n",
      "A value is trying to be set on a copy of a slice from a DataFrame.\n",
      "Try using .loc[row_indexer,col_indexer] = value instead\n",
      "\n",
      "See the caveats in the documentation: http://pandas.pydata.org/pandas-docs/stable/user_guide/indexing.html#returning-a-view-versus-a-copy\n",
      "  df1['time'] = df1[\"datetime\"].str[11:]\n",
      "/home/jovyan/work/Notebooks/rmit-parking-prediction/FeatureConvertor.py:118: SettingWithCopyWarning: \n",
      "A value is trying to be set on a copy of a slice from a DataFrame.\n",
      "Try using .loc[row_indexer,col_indexer] = value instead\n",
      "\n",
      "See the caveats in the documentation: http://pandas.pydata.org/pandas-docs/stable/user_guide/indexing.html#returning-a-view-versus-a-copy\n",
      "  df1[\"wd\"] = df1.apply(lambda row: arrow.get(row[\"datetime\"]).format(\"d\"), axis=1)\n",
      "/home/jovyan/work/Notebooks/rmit-parking-prediction/FeatureConvertor.py:130: SettingWithCopyWarning: \n",
      "A value is trying to be set on a copy of a slice from a DataFrame.\n",
      "Try using .loc[row_indexer,col_indexer] = value instead\n",
      "\n",
      "See the caveats in the documentation: http://pandas.pydata.org/pandas-docs/stable/user_guide/indexing.html#returning-a-view-versus-a-copy\n",
      "  dx[\"datetime\"] = t+\" \"+dx[\"time\"]\n",
      "/home/jovyan/work/Notebooks/rmit-parking-prediction/FeatureConvertor.py:141: SettingWithCopyWarning: \n",
      "A value is trying to be set on a copy of a slice from a DataFrame.\n",
      "Try using .loc[row_indexer,col_indexer] = value instead\n",
      "\n",
      "See the caveats in the documentation: http://pandas.pydata.org/pandas-docs/stable/user_guide/indexing.html#returning-a-view-versus-a-copy\n",
      "  dx[\"datetime\"] = end.format(\"YYYY-MM-DD HH:mm\")\n",
      "/opt/conda/lib/python3.7/site-packages/sklearn/feature_selection/_univariate_selection.py:299: RuntimeWarning: invalid value encountered in true_divide\n",
      "  corr /= X_norms\n",
      "/opt/conda/lib/python3.7/site-packages/scipy/stats/_distn_infrastructure.py:903: RuntimeWarning: invalid value encountered in greater\n",
      "  return (a < x) & (x < b)\n",
      "/opt/conda/lib/python3.7/site-packages/scipy/stats/_distn_infrastructure.py:903: RuntimeWarning: invalid value encountered in less\n",
      "  return (a < x) & (x < b)\n",
      "/opt/conda/lib/python3.7/site-packages/scipy/stats/_distn_infrastructure.py:1912: RuntimeWarning: invalid value encountered in less_equal\n",
      "  cond2 = cond0 & (x <= _a)\n"
     ]
    },
    {
     "data": {
      "text/html": [
       "<table><tr><th>Features</th><th>Pearson<p>Correlation<p>Coefficient</th><th>F Value</th><th>p-Value</th></tr><tr><td>Extreme_weather</td><td>       nan</td><td>       nan</td><td>nan</td></tr><tr><td>Humidity</td><td>      0.19</td><td>   9247.09</td><td>0</td></tr><tr><td>DayOfMonth</td><td>      0.11</td><td>   3032.63</td><td>0</td></tr><tr><td>Barometer</td><td>      0.06</td><td>    913.98</td><td>2.08e-200</td></tr><tr><td>availability</td><td>      0.02</td><td>    118.98</td><td>1.07e-27</td></tr><tr><td>num_of_poi1.0</td><td>      0.00</td><td>      5.66</td><td>1.74e-02</td></tr><tr><td>num_of_open_poi1.0</td><td>     -0.32</td><td>  27946.25</td><td>0</td></tr><tr><td>num_of_open_poi0.5</td><td>     -0.30</td><td>  24221.17</td><td>0</td></tr><tr><td>Temp</td><td>     -0.24</td><td>  14862.64</td><td>0</td></tr><tr><td>min_dis1.0</td><td>     -0.12</td><td>   3487.51</td><td>0</td></tr><tr><td>min_dis0.5</td><td>     -0.12</td><td>   3487.51</td><td>0</td></tr><tr><td>Wind</td><td>     -0.07</td><td>   1165.69</td><td>6.82e-255</td></tr><tr><td>Hour</td><td>     -0.07</td><td>   1139.34</td><td>3.41e-249</td></tr><tr><td>DayOfWeek</td><td>     -0.06</td><td>    771.68</td><td>1.41e-169</td></tr><tr><td>num_of_poi0.5</td><td>     -0.03</td><td>    245.34</td><td>2.86e-55</td></tr></table>"
      ],
      "text/plain": [
       "<IPython.core.display.HTML object>"
      ]
     },
     "metadata": {},
     "output_type": "display_data"
    }
   ],
   "source": [
    "exp.showFeaturesCorrelationCoefficient(\"Mornington\",\"02/01/2020\",\"02/28/2020\")"
   ]
  },
  {
   "cell_type": "code",
   "execution_count": 2,
   "metadata": {
    "ExecuteTime": {
     "end_time": "2020-07-03T07:42:42.233091Z",
     "start_time": "2020-07-03T07:36:40.848152Z"
    },
    "scrolled": true
   },
   "outputs": [
    {
     "name": "stderr",
     "output_type": "stream",
     "text": [
      "/home/jovyan/work/Notebooks/rmit-parking-prediction/FeatureConvertor.py:115: SettingWithCopyWarning: \n",
      "A value is trying to be set on a copy of a slice from a DataFrame.\n",
      "Try using .loc[row_indexer,col_indexer] = value instead\n",
      "\n",
      "See the caveats in the documentation: http://pandas.pydata.org/pandas-docs/stable/user_guide/indexing.html#returning-a-view-versus-a-copy\n",
      "  df1['day'] = df1[\"datetime\"].str[:10]\n",
      "/home/jovyan/work/Notebooks/rmit-parking-prediction/FeatureConvertor.py:116: SettingWithCopyWarning: \n",
      "A value is trying to be set on a copy of a slice from a DataFrame.\n",
      "Try using .loc[row_indexer,col_indexer] = value instead\n",
      "\n",
      "See the caveats in the documentation: http://pandas.pydata.org/pandas-docs/stable/user_guide/indexing.html#returning-a-view-versus-a-copy\n",
      "  df1['time'] = df1[\"datetime\"].str[11:]\n",
      "/home/jovyan/work/Notebooks/rmit-parking-prediction/FeatureConvertor.py:118: SettingWithCopyWarning: \n",
      "A value is trying to be set on a copy of a slice from a DataFrame.\n",
      "Try using .loc[row_indexer,col_indexer] = value instead\n",
      "\n",
      "See the caveats in the documentation: http://pandas.pydata.org/pandas-docs/stable/user_guide/indexing.html#returning-a-view-versus-a-copy\n",
      "  df1[\"wd\"] = df1.apply(lambda row: arrow.get(row[\"datetime\"]).format(\"d\"), axis=1)\n",
      "/home/jovyan/work/Notebooks/rmit-parking-prediction/FeatureConvertor.py:130: SettingWithCopyWarning: \n",
      "A value is trying to be set on a copy of a slice from a DataFrame.\n",
      "Try using .loc[row_indexer,col_indexer] = value instead\n",
      "\n",
      "See the caveats in the documentation: http://pandas.pydata.org/pandas-docs/stable/user_guide/indexing.html#returning-a-view-versus-a-copy\n",
      "  dx[\"datetime\"] = t+\" \"+dx[\"time\"]\n",
      "/home/jovyan/work/Notebooks/rmit-parking-prediction/FeatureConvertor.py:141: SettingWithCopyWarning: \n",
      "A value is trying to be set on a copy of a slice from a DataFrame.\n",
      "Try using .loc[row_indexer,col_indexer] = value instead\n",
      "\n",
      "See the caveats in the documentation: http://pandas.pydata.org/pandas-docs/stable/user_guide/indexing.html#returning-a-view-versus-a-copy\n",
      "  dx[\"datetime\"] = end.format(\"YYYY-MM-DD HH:mm\")\n",
      "/home/jovyan/work/Notebooks/rmit-parking-prediction/FeatureConvertor.py:192: SettingWithCopyWarning: \n",
      "A value is trying to be set on a copy of a slice from a DataFrame.\n",
      "Try using .loc[row_indexer,col_indexer] = value instead\n",
      "\n",
      "See the caveats in the documentation: http://pandas.pydata.org/pandas-docs/stable/user_guide/indexing.html#returning-a-view-versus-a-copy\n",
      "  df1['day'] = df1[\"datetime\"].str[:10]\n",
      "/home/jovyan/work/Notebooks/rmit-parking-prediction/FeatureConvertor.py:193: SettingWithCopyWarning: \n",
      "A value is trying to be set on a copy of a slice from a DataFrame.\n",
      "Try using .loc[row_indexer,col_indexer] = value instead\n",
      "\n",
      "See the caveats in the documentation: http://pandas.pydata.org/pandas-docs/stable/user_guide/indexing.html#returning-a-view-versus-a-copy\n",
      "  df1['time'] = df1[\"datetime\"].str[11:]\n",
      "/home/jovyan/work/Notebooks/rmit-parking-prediction/FeatureConvertor.py:195: SettingWithCopyWarning: \n",
      "A value is trying to be set on a copy of a slice from a DataFrame.\n",
      "Try using .loc[row_indexer,col_indexer] = value instead\n",
      "\n",
      "See the caveats in the documentation: http://pandas.pydata.org/pandas-docs/stable/user_guide/indexing.html#returning-a-view-versus-a-copy\n",
      "  df1[\"wd\"] = df1.apply(lambda row: arrow.get(row[\"datetime\"]).format(\"d\"), axis=1)\n",
      "/home/jovyan/work/Notebooks/rmit-parking-prediction/FeatureConvertor.py:222: SettingWithCopyWarning: \n",
      "A value is trying to be set on a copy of a slice from a DataFrame.\n",
      "Try using .loc[row_indexer,col_indexer] = value instead\n",
      "\n",
      "See the caveats in the documentation: http://pandas.pydata.org/pandas-docs/stable/user_guide/indexing.html#returning-a-view-versus-a-copy\n",
      "  dx[\"datetime\"] = t+\" \"+dx[\"time\"]\n",
      "/home/jovyan/work/Notebooks/rmit-parking-prediction/FeatureConvertor.py:233: SettingWithCopyWarning: \n",
      "A value is trying to be set on a copy of a slice from a DataFrame.\n",
      "Try using .loc[row_indexer,col_indexer] = value instead\n",
      "\n",
      "See the caveats in the documentation: http://pandas.pydata.org/pandas-docs/stable/user_guide/indexing.html#returning-a-view-versus-a-copy\n",
      "  dx[\"datetime\"] = end.format(\"YYYY-MM-DD HH:mm\")\n",
      "/home/jovyan/work/Notebooks/rmit-parking-prediction/FeatureConvertor.py:115: SettingWithCopyWarning: \n",
      "A value is trying to be set on a copy of a slice from a DataFrame.\n",
      "Try using .loc[row_indexer,col_indexer] = value instead\n",
      "\n",
      "See the caveats in the documentation: http://pandas.pydata.org/pandas-docs/stable/user_guide/indexing.html#returning-a-view-versus-a-copy\n",
      "  df1['day'] = df1[\"datetime\"].str[:10]\n",
      "/home/jovyan/work/Notebooks/rmit-parking-prediction/FeatureConvertor.py:116: SettingWithCopyWarning: \n",
      "A value is trying to be set on a copy of a slice from a DataFrame.\n",
      "Try using .loc[row_indexer,col_indexer] = value instead\n",
      "\n",
      "See the caveats in the documentation: http://pandas.pydata.org/pandas-docs/stable/user_guide/indexing.html#returning-a-view-versus-a-copy\n",
      "  df1['time'] = df1[\"datetime\"].str[11:]\n",
      "/home/jovyan/work/Notebooks/rmit-parking-prediction/FeatureConvertor.py:118: SettingWithCopyWarning: \n",
      "A value is trying to be set on a copy of a slice from a DataFrame.\n",
      "Try using .loc[row_indexer,col_indexer] = value instead\n",
      "\n",
      "See the caveats in the documentation: http://pandas.pydata.org/pandas-docs/stable/user_guide/indexing.html#returning-a-view-versus-a-copy\n",
      "  df1[\"wd\"] = df1.apply(lambda row: arrow.get(row[\"datetime\"]).format(\"d\"), axis=1)\n",
      "/home/jovyan/work/Notebooks/rmit-parking-prediction/FeatureConvertor.py:130: SettingWithCopyWarning: \n",
      "A value is trying to be set on a copy of a slice from a DataFrame.\n",
      "Try using .loc[row_indexer,col_indexer] = value instead\n",
      "\n",
      "See the caveats in the documentation: http://pandas.pydata.org/pandas-docs/stable/user_guide/indexing.html#returning-a-view-versus-a-copy\n",
      "  dx[\"datetime\"] = t+\" \"+dx[\"time\"]\n",
      "/home/jovyan/work/Notebooks/rmit-parking-prediction/FeatureConvertor.py:141: SettingWithCopyWarning: \n",
      "A value is trying to be set on a copy of a slice from a DataFrame.\n",
      "Try using .loc[row_indexer,col_indexer] = value instead\n",
      "\n",
      "See the caveats in the documentation: http://pandas.pydata.org/pandas-docs/stable/user_guide/indexing.html#returning-a-view-versus-a-copy\n",
      "  dx[\"datetime\"] = end.format(\"YYYY-MM-DD HH:mm\")\n",
      "/opt/conda/lib/python3.7/site-packages/sklearn/feature_selection/_univariate_selection.py:293: RuntimeWarning: invalid value encountered in sqrt\n",
      "  n_samples * X_means ** 2)\n",
      "/opt/conda/lib/python3.7/site-packages/scipy/stats/_distn_infrastructure.py:903: RuntimeWarning: invalid value encountered in greater\n",
      "  return (a < x) & (x < b)\n",
      "/opt/conda/lib/python3.7/site-packages/scipy/stats/_distn_infrastructure.py:903: RuntimeWarning: invalid value encountered in less\n",
      "  return (a < x) & (x < b)\n",
      "/opt/conda/lib/python3.7/site-packages/scipy/stats/_distn_infrastructure.py:1912: RuntimeWarning: invalid value encountered in less_equal\n",
      "  cond2 = cond0 & (x <= _a)\n"
     ]
    },
    {
     "data": {
      "text/html": [
       "<table><tr><th>Features</th><th>Pearson<p>Correlation<p>Coefficient</th><th>F Value</th><th>p-Value</th></tr><tr><td>Month</td><td>      0.00</td><td>       nan</td><td>nan</td></tr><tr><td>num_of_open_poi1.0</td><td>      0.34</td><td>  51742.63</td><td>0</td></tr><tr><td>num_of_open_poi0.8</td><td>      0.34</td><td>  50121.84</td><td>0</td></tr><tr><td>num_of_open_poi0.5</td><td>      0.33</td><td>  48513.95</td><td>0</td></tr><tr><td>num_of_open_poi0.4</td><td>      0.33</td><td>  46877.86</td><td>0</td></tr><tr><td>num_of_open_poi0.3</td><td>      0.32</td><td>  45007.54</td><td>0</td></tr><tr><td>num_of_open_poi0.1</td><td>      0.32</td><td>  44771.54</td><td>0</td></tr><tr><td>num_of_open_poi0.2</td><td>      0.32</td><td>  44583.47</td><td>0</td></tr><tr><td>Temp</td><td>      0.23</td><td>  21622.33</td><td>0</td></tr><tr><td>num_of_open_poi0.05</td><td>      0.22</td><td>  20291.11</td><td>0</td></tr><tr><td>Hour</td><td>      0.16</td><td>   9896.81</td><td>0</td></tr><tr><td>num_of_poi0.1</td><td>      0.13</td><td>   7197.60</td><td>0</td></tr><tr><td>Wind</td><td>      0.13</td><td>   6871.60</td><td>0</td></tr><tr><td>num_of_poi0.2</td><td>      0.12</td><td>   5982.06</td><td>0</td></tr><tr><td>num_of_poi0.05</td><td>      0.11</td><td>   4517.12</td><td>0</td></tr><tr><td>num_of_poi0.3</td><td>      0.11</td><td>   4395.87</td><td>0</td></tr><tr><td>num_of_poi0.4</td><td>      0.10</td><td>   4232.81</td><td>0</td></tr><tr><td>num_of_poi0.5</td><td>      0.09</td><td>   3356.62</td><td>0</td></tr><tr><td>DayOfWeek</td><td>      0.07</td><td>   2063.57</td><td>0</td></tr><tr><td>num_of_poi0.8</td><td>      0.07</td><td>   1875.83</td><td>0</td></tr><tr><td>num_of_poi1.0</td><td>      0.05</td><td>   1149.31</td><td>1.48e-251</td></tr><tr><td>availability</td><td>      0.02</td><td>    108.92</td><td>1.70e-25</td></tr><tr><td>Day</td><td>      0.01</td><td>     78.61</td><td>7.60e-19</td></tr><tr><td>DayOfMonth</td><td>      0.01</td><td>     78.61</td><td>7.60e-19</td></tr><tr><td>DayOfYear</td><td>      0.01</td><td>     78.61</td><td>7.60e-19</td></tr><tr><td>mean_dis0.1</td><td>      0.01</td><td>     76.36</td><td>2.37e-18</td></tr><tr><td>min_dis0.1</td><td>      0.01</td><td>     22.94</td><td>1.67e-06</td></tr><tr><td>mean_dis0.2</td><td>      0.01</td><td>     10.03</td><td>1.54e-03</td></tr><tr><td>Humidity</td><td>     -0.25</td><td>  26409.49</td><td>0</td></tr><tr><td>mean_dis1.0</td><td>     -0.12</td><td>   5822.64</td><td>0</td></tr><tr><td>mean_dis0.8</td><td>     -0.11</td><td>   4698.25</td><td>0</td></tr><tr><td>mean_dis0.4</td><td>     -0.08</td><td>   2784.39</td><td>0</td></tr><tr><td>min_dis0.05</td><td>     -0.08</td><td>   2376.92</td><td>0</td></tr><tr><td>mean_dis0.05</td><td>     -0.08</td><td>   2346.95</td><td>0</td></tr><tr><td>mean_dis0.5</td><td>     -0.08</td><td>   2216.45</td><td>0</td></tr><tr><td>min_dis0.2</td><td>     -0.04</td><td>    570.99</td><td>4.22e-126</td></tr><tr><td>min_dis1.0</td><td>     -0.04</td><td>    570.99</td><td>4.22e-126</td></tr><tr><td>min_dis0.4</td><td>     -0.04</td><td>    570.99</td><td>4.22e-126</td></tr><tr><td>min_dis0.3</td><td>     -0.04</td><td>    570.99</td><td>4.22e-126</td></tr><tr><td>min_dis0.8</td><td>     -0.04</td><td>    570.99</td><td>4.22e-126</td></tr><tr><td>min_dis0.5</td><td>     -0.04</td><td>    570.99</td><td>4.22e-126</td></tr><tr><td>Extreme_weather</td><td>     -0.03</td><td>    275.92</td><td>6.13e-62</td></tr><tr><td>mean_dis0.3</td><td>     -0.01</td><td>     64.39</td><td>1.02e-15</td></tr><tr><td>Barometer</td><td>     -0.01</td><td>     22.81</td><td>1.79e-06</td></tr><tr><td>duration</td><td>     -0.00</td><td>      4.80</td><td>2.84e-02</td></tr><tr><td>Minute</td><td>     -0.00</td><td>      0.17</td><td>6.81e-01</td></tr></table>"
      ],
      "text/plain": [
       "<IPython.core.display.HTML object>"
      ]
     },
     "metadata": {},
     "output_type": "display_data"
    }
   ],
   "source": [
    "exp.showFeaturesCorrelationCoefficient(\"MelbCity\",\"02/01/2017\",\"02/28/2017\",features = exp.getAllFeaturesList())"
   ]
  },
  {
   "cell_type": "code",
   "execution_count": 2,
   "metadata": {
    "ExecuteTime": {
     "end_time": "2020-07-03T07:56:09.633167Z",
     "start_time": "2020-07-03T07:52:39.231170Z"
    },
    "scrolled": true
   },
   "outputs": [
    {
     "name": "stderr",
     "output_type": "stream",
     "text": [
      "/home/jovyan/work/Notebooks/rmit-parking-prediction/Trier.py:204: DtypeWarning: Columns (0) have mixed types. Specify dtype option on import or set low_memory=False.\n",
      "  p1 = _getParkingIdDataset(id,self.config[\"interval\"],start,end,features,location=location)\n",
      "/home/jovyan/work/Notebooks/rmit-parking-prediction/FeatureConvertor.py:116: SettingWithCopyWarning: \n",
      "A value is trying to be set on a copy of a slice from a DataFrame.\n",
      "Try using .loc[row_indexer,col_indexer] = value instead\n",
      "\n",
      "See the caveats in the documentation: http://pandas.pydata.org/pandas-docs/stable/user_guide/indexing.html#returning-a-view-versus-a-copy\n",
      "  df1['day'] = df1[\"datetime\"].str[:10]\n",
      "/home/jovyan/work/Notebooks/rmit-parking-prediction/FeatureConvertor.py:117: SettingWithCopyWarning: \n",
      "A value is trying to be set on a copy of a slice from a DataFrame.\n",
      "Try using .loc[row_indexer,col_indexer] = value instead\n",
      "\n",
      "See the caveats in the documentation: http://pandas.pydata.org/pandas-docs/stable/user_guide/indexing.html#returning-a-view-versus-a-copy\n",
      "  df1['time'] = df1[\"datetime\"].str[11:]\n",
      "/home/jovyan/work/Notebooks/rmit-parking-prediction/FeatureConvertor.py:119: SettingWithCopyWarning: \n",
      "A value is trying to be set on a copy of a slice from a DataFrame.\n",
      "Try using .loc[row_indexer,col_indexer] = value instead\n",
      "\n",
      "See the caveats in the documentation: http://pandas.pydata.org/pandas-docs/stable/user_guide/indexing.html#returning-a-view-versus-a-copy\n",
      "  df1[\"wd\"] = df1.apply(lambda row: arrow.get(row[\"datetime\"]).format(\"d\"), axis=1)\n",
      "/home/jovyan/work/Notebooks/rmit-parking-prediction/FeatureConvertor.py:131: SettingWithCopyWarning: \n",
      "A value is trying to be set on a copy of a slice from a DataFrame.\n",
      "Try using .loc[row_indexer,col_indexer] = value instead\n",
      "\n",
      "See the caveats in the documentation: http://pandas.pydata.org/pandas-docs/stable/user_guide/indexing.html#returning-a-view-versus-a-copy\n",
      "  dx[\"datetime\"] = t+\" \"+dx[\"time\"]\n",
      "/home/jovyan/work/Notebooks/rmit-parking-prediction/FeatureConvertor.py:142: SettingWithCopyWarning: \n",
      "A value is trying to be set on a copy of a slice from a DataFrame.\n",
      "Try using .loc[row_indexer,col_indexer] = value instead\n",
      "\n",
      "See the caveats in the documentation: http://pandas.pydata.org/pandas-docs/stable/user_guide/indexing.html#returning-a-view-versus-a-copy\n",
      "  dx[\"datetime\"] = end.format(\"YYYY-MM-DD HH:mm\")\n",
      "/home/jovyan/work/Notebooks/rmit-parking-prediction/FeatureConvertor.py:193: SettingWithCopyWarning: \n",
      "A value is trying to be set on a copy of a slice from a DataFrame.\n",
      "Try using .loc[row_indexer,col_indexer] = value instead\n",
      "\n",
      "See the caveats in the documentation: http://pandas.pydata.org/pandas-docs/stable/user_guide/indexing.html#returning-a-view-versus-a-copy\n",
      "  df1['day'] = df1[\"datetime\"].str[:10]\n",
      "/home/jovyan/work/Notebooks/rmit-parking-prediction/FeatureConvertor.py:194: SettingWithCopyWarning: \n",
      "A value is trying to be set on a copy of a slice from a DataFrame.\n",
      "Try using .loc[row_indexer,col_indexer] = value instead\n",
      "\n",
      "See the caveats in the documentation: http://pandas.pydata.org/pandas-docs/stable/user_guide/indexing.html#returning-a-view-versus-a-copy\n",
      "  df1['time'] = df1[\"datetime\"].str[11:]\n",
      "/home/jovyan/work/Notebooks/rmit-parking-prediction/FeatureConvertor.py:196: SettingWithCopyWarning: \n",
      "A value is trying to be set on a copy of a slice from a DataFrame.\n",
      "Try using .loc[row_indexer,col_indexer] = value instead\n",
      "\n",
      "See the caveats in the documentation: http://pandas.pydata.org/pandas-docs/stable/user_guide/indexing.html#returning-a-view-versus-a-copy\n",
      "  df1[\"wd\"] = df1.apply(lambda row: arrow.get(row[\"datetime\"]).format(\"d\"), axis=1)\n",
      "/home/jovyan/work/Notebooks/rmit-parking-prediction/FeatureConvertor.py:223: SettingWithCopyWarning: \n",
      "A value is trying to be set on a copy of a slice from a DataFrame.\n",
      "Try using .loc[row_indexer,col_indexer] = value instead\n",
      "\n",
      "See the caveats in the documentation: http://pandas.pydata.org/pandas-docs/stable/user_guide/indexing.html#returning-a-view-versus-a-copy\n",
      "  dx[\"datetime\"] = t+\" \"+dx[\"time\"]\n",
      "/home/jovyan/work/Notebooks/rmit-parking-prediction/FeatureConvertor.py:234: SettingWithCopyWarning: \n",
      "A value is trying to be set on a copy of a slice from a DataFrame.\n",
      "Try using .loc[row_indexer,col_indexer] = value instead\n",
      "\n",
      "See the caveats in the documentation: http://pandas.pydata.org/pandas-docs/stable/user_guide/indexing.html#returning-a-view-versus-a-copy\n",
      "  dx[\"datetime\"] = end.format(\"YYYY-MM-DD HH:mm\")\n",
      "/home/jovyan/work/Notebooks/rmit-parking-prediction/FeatureConvertor.py:116: SettingWithCopyWarning: \n",
      "A value is trying to be set on a copy of a slice from a DataFrame.\n",
      "Try using .loc[row_indexer,col_indexer] = value instead\n",
      "\n",
      "See the caveats in the documentation: http://pandas.pydata.org/pandas-docs/stable/user_guide/indexing.html#returning-a-view-versus-a-copy\n",
      "  df1['day'] = df1[\"datetime\"].str[:10]\n",
      "/home/jovyan/work/Notebooks/rmit-parking-prediction/FeatureConvertor.py:117: SettingWithCopyWarning: \n",
      "A value is trying to be set on a copy of a slice from a DataFrame.\n",
      "Try using .loc[row_indexer,col_indexer] = value instead\n",
      "\n",
      "See the caveats in the documentation: http://pandas.pydata.org/pandas-docs/stable/user_guide/indexing.html#returning-a-view-versus-a-copy\n",
      "  df1['time'] = df1[\"datetime\"].str[11:]\n",
      "/home/jovyan/work/Notebooks/rmit-parking-prediction/FeatureConvertor.py:119: SettingWithCopyWarning: \n",
      "A value is trying to be set on a copy of a slice from a DataFrame.\n",
      "Try using .loc[row_indexer,col_indexer] = value instead\n",
      "\n",
      "See the caveats in the documentation: http://pandas.pydata.org/pandas-docs/stable/user_guide/indexing.html#returning-a-view-versus-a-copy\n",
      "  df1[\"wd\"] = df1.apply(lambda row: arrow.get(row[\"datetime\"]).format(\"d\"), axis=1)\n",
      "/home/jovyan/work/Notebooks/rmit-parking-prediction/FeatureConvertor.py:131: SettingWithCopyWarning: \n",
      "A value is trying to be set on a copy of a slice from a DataFrame.\n",
      "Try using .loc[row_indexer,col_indexer] = value instead\n",
      "\n",
      "See the caveats in the documentation: http://pandas.pydata.org/pandas-docs/stable/user_guide/indexing.html#returning-a-view-versus-a-copy\n",
      "  dx[\"datetime\"] = t+\" \"+dx[\"time\"]\n",
      "/home/jovyan/work/Notebooks/rmit-parking-prediction/FeatureConvertor.py:142: SettingWithCopyWarning: \n",
      "A value is trying to be set on a copy of a slice from a DataFrame.\n",
      "Try using .loc[row_indexer,col_indexer] = value instead\n",
      "\n",
      "See the caveats in the documentation: http://pandas.pydata.org/pandas-docs/stable/user_guide/indexing.html#returning-a-view-versus-a-copy\n",
      "  dx[\"datetime\"] = end.format(\"YYYY-MM-DD HH:mm\")\n",
      "/opt/conda/lib/python3.7/site-packages/sklearn/feature_selection/_univariate_selection.py:299: RuntimeWarning: invalid value encountered in true_divide\n",
      "  corr /= X_norms\n",
      "/opt/conda/lib/python3.7/site-packages/scipy/stats/_distn_infrastructure.py:903: RuntimeWarning: invalid value encountered in greater\n",
      "  return (a < x) & (x < b)\n",
      "/opt/conda/lib/python3.7/site-packages/scipy/stats/_distn_infrastructure.py:903: RuntimeWarning: invalid value encountered in less\n",
      "  return (a < x) & (x < b)\n",
      "/opt/conda/lib/python3.7/site-packages/scipy/stats/_distn_infrastructure.py:1912: RuntimeWarning: invalid value encountered in less_equal\n",
      "  cond2 = cond0 & (x <= _a)\n"
     ]
    },
    {
     "data": {
      "text/html": [
       "<table><tr><th>Features</th><th>Pearson<p>Correlation<p>Coefficient</th><th>F Value</th><th>p-Value</th></tr><tr><td>Extreme_weather</td><td>       nan</td><td>       nan</td><td>nan</td></tr><tr><td>Month</td><td>      0.00</td><td>      0.00</td><td>1.00e+00</td></tr><tr><td>Humidity</td><td>      0.19</td><td>   9247.09</td><td>0</td></tr><tr><td>num_of_poi0.05</td><td>      0.14</td><td>   4665.22</td><td>0</td></tr><tr><td>DayOfYear</td><td>      0.11</td><td>   3032.63</td><td>0</td></tr><tr><td>DayOfMonth</td><td>      0.11</td><td>   3032.63</td><td>0</td></tr><tr><td>Day</td><td>      0.11</td><td>   3032.63</td><td>0</td></tr><tr><td>num_of_poi0.1</td><td>      0.07</td><td>   1395.26</td><td>1.58e-304</td></tr><tr><td>mean_dis0.05</td><td>      0.07</td><td>   1100.30</td><td>9.58e-241</td></tr><tr><td>Barometer</td><td>      0.06</td><td>    913.98</td><td>2.08e-200</td></tr><tr><td>mean_dis1.0</td><td>      0.05</td><td>    508.36</td><td>1.88e-112</td></tr><tr><td>availability</td><td>      0.02</td><td>    118.98</td><td>1.07e-27</td></tr><tr><td>mean_dis0.8</td><td>      0.01</td><td>     20.01</td><td>7.69e-06</td></tr><tr><td>num_of_poi1.0</td><td>      0.00</td><td>      5.66</td><td>1.74e-02</td></tr><tr><td>Minute</td><td>      0.00</td><td>      0.99</td><td>3.20e-01</td></tr><tr><td>num_of_open_poi0.8</td><td>     -0.32</td><td>  28449.63</td><td>0</td></tr><tr><td>num_of_open_poi1.0</td><td>     -0.32</td><td>  27946.25</td><td>0</td></tr><tr><td>num_of_open_poi0.3</td><td>     -0.30</td><td>  25007.71</td><td>0</td></tr><tr><td>num_of_open_poi0.5</td><td>     -0.30</td><td>  24221.17</td><td>0</td></tr><tr><td>num_of_open_poi0.4</td><td>     -0.29</td><td>  23654.59</td><td>0</td></tr><tr><td>num_of_open_poi0.2</td><td>     -0.26</td><td>  18704.19</td><td>0</td></tr><tr><td>Temp</td><td>     -0.24</td><td>  14862.64</td><td>0</td></tr><tr><td>mean_dis0.2</td><td>     -0.13</td><td>   4124.00</td><td>0</td></tr><tr><td>num_of_open_poi0.1</td><td>     -0.12</td><td>   3760.68</td><td>0</td></tr><tr><td>min_dis1.0</td><td>     -0.12</td><td>   3487.51</td><td>0</td></tr><tr><td>min_dis0.3</td><td>     -0.12</td><td>   3487.51</td><td>0</td></tr><tr><td>min_dis0.05</td><td>     -0.12</td><td>   3487.51</td><td>0</td></tr><tr><td>min_dis0.5</td><td>     -0.12</td><td>   3487.51</td><td>0</td></tr><tr><td>min_dis0.1</td><td>     -0.12</td><td>   3487.51</td><td>0</td></tr><tr><td>min_dis0.2</td><td>     -0.12</td><td>   3487.51</td><td>0</td></tr><tr><td>min_dis0.8</td><td>     -0.12</td><td>   3487.51</td><td>0</td></tr><tr><td>min_dis0.4</td><td>     -0.12</td><td>   3487.51</td><td>0</td></tr><tr><td>Wind</td><td>     -0.07</td><td>   1165.69</td><td>6.82e-255</td></tr><tr><td>Hour</td><td>     -0.07</td><td>   1139.34</td><td>3.41e-249</td></tr><tr><td>num_of_poi0.2</td><td>     -0.06</td><td>    954.91</td><td>2.83e-209</td></tr><tr><td>mean_dis0.4</td><td>     -0.06</td><td>    929.86</td><td>7.56e-204</td></tr><tr><td>num_of_poi0.8</td><td>     -0.06</td><td>    820.32</td><td>4.06e-180</td></tr><tr><td>DayOfWeek</td><td>     -0.06</td><td>    771.68</td><td>1.41e-169</td></tr><tr><td>mean_dis0.3</td><td>     -0.05</td><td>    720.79</td><td>1.52e-158</td></tr><tr><td>mean_dis0.1</td><td>     -0.05</td><td>    682.93</td><td>2.46e-150</td></tr><tr><td>num_of_poi0.3</td><td>     -0.04</td><td>    498.77</td><td>2.26e-110</td></tr><tr><td>num_of_poi0.4</td><td>     -0.04</td><td>    492.78</td><td>4.53e-109</td></tr><tr><td>num_of_poi0.5</td><td>     -0.03</td><td>    245.34</td><td>2.86e-55</td></tr><tr><td>num_of_open_poi0.05</td><td>     -0.01</td><td>     30.53</td><td>3.29e-08</td></tr><tr><td>mean_dis0.5</td><td>     -0.01</td><td>      8.38</td><td>3.80e-03</td></tr></table>"
      ],
      "text/plain": [
       "<IPython.core.display.HTML object>"
      ]
     },
     "metadata": {},
     "output_type": "display_data"
    }
   ],
   "source": [
    "exp.showFeaturesCorrelationCoefficient(\"Mornington\",\"02/01/2020\",\"02/28/2020\",features = exp.getAllFeaturesList())"
   ]
  },
  {
   "cell_type": "markdown",
   "metadata": {},
   "source": [
    "## Debug"
   ]
  },
  {
   "cell_type": "code",
   "execution_count": 5,
   "metadata": {
    "ExecuteTime": {
     "end_time": "2020-07-02T13:02:56.804600Z",
     "start_time": "2020-07-02T13:02:38.182617Z"
    },
    "scrolled": true
   },
   "outputs": [
    {
     "name": "stderr",
     "output_type": "stream",
     "text": [
      "/home/jovyan/work/Notebooks/rmit-parking-prediction/FeatureConvertor.py:115: SettingWithCopyWarning: \n",
      "A value is trying to be set on a copy of a slice from a DataFrame.\n",
      "Try using .loc[row_indexer,col_indexer] = value instead\n",
      "\n",
      "See the caveats in the documentation: http://pandas.pydata.org/pandas-docs/stable/user_guide/indexing.html#returning-a-view-versus-a-copy\n",
      "  df1['day'] = df1[\"datetime\"].str[:10]\n",
      "/home/jovyan/work/Notebooks/rmit-parking-prediction/FeatureConvertor.py:116: SettingWithCopyWarning: \n",
      "A value is trying to be set on a copy of a slice from a DataFrame.\n",
      "Try using .loc[row_indexer,col_indexer] = value instead\n",
      "\n",
      "See the caveats in the documentation: http://pandas.pydata.org/pandas-docs/stable/user_guide/indexing.html#returning-a-view-versus-a-copy\n",
      "  df1['time'] = df1[\"datetime\"].str[11:]\n",
      "/home/jovyan/work/Notebooks/rmit-parking-prediction/FeatureConvertor.py:118: SettingWithCopyWarning: \n",
      "A value is trying to be set on a copy of a slice from a DataFrame.\n",
      "Try using .loc[row_indexer,col_indexer] = value instead\n",
      "\n",
      "See the caveats in the documentation: http://pandas.pydata.org/pandas-docs/stable/user_guide/indexing.html#returning-a-view-versus-a-copy\n",
      "  df1[\"wd\"] = df1.apply(lambda row: arrow.get(row[\"datetime\"]).format(\"d\"), axis=1)\n",
      "/home/jovyan/work/Notebooks/rmit-parking-prediction/FeatureConvertor.py:130: SettingWithCopyWarning: \n",
      "A value is trying to be set on a copy of a slice from a DataFrame.\n",
      "Try using .loc[row_indexer,col_indexer] = value instead\n",
      "\n",
      "See the caveats in the documentation: http://pandas.pydata.org/pandas-docs/stable/user_guide/indexing.html#returning-a-view-versus-a-copy\n",
      "  dx[\"datetime\"] = t+\" \"+dx[\"time\"]\n",
      "/home/jovyan/work/Notebooks/rmit-parking-prediction/FeatureConvertor.py:141: SettingWithCopyWarning: \n",
      "A value is trying to be set on a copy of a slice from a DataFrame.\n",
      "Try using .loc[row_indexer,col_indexer] = value instead\n",
      "\n",
      "See the caveats in the documentation: http://pandas.pydata.org/pandas-docs/stable/user_guide/indexing.html#returning-a-view-versus-a-copy\n",
      "  dx[\"datetime\"] = end.format(\"YYYY-MM-DD HH:mm\")\n",
      "/home/jovyan/work/Notebooks/rmit-parking-prediction/FeatureConvertor.py:192: SettingWithCopyWarning: \n",
      "A value is trying to be set on a copy of a slice from a DataFrame.\n",
      "Try using .loc[row_indexer,col_indexer] = value instead\n",
      "\n",
      "See the caveats in the documentation: http://pandas.pydata.org/pandas-docs/stable/user_guide/indexing.html#returning-a-view-versus-a-copy\n",
      "  df1['day'] = df1[\"datetime\"].str[:10]\n",
      "/home/jovyan/work/Notebooks/rmit-parking-prediction/FeatureConvertor.py:193: SettingWithCopyWarning: \n",
      "A value is trying to be set on a copy of a slice from a DataFrame.\n",
      "Try using .loc[row_indexer,col_indexer] = value instead\n",
      "\n",
      "See the caveats in the documentation: http://pandas.pydata.org/pandas-docs/stable/user_guide/indexing.html#returning-a-view-versus-a-copy\n",
      "  df1['time'] = df1[\"datetime\"].str[11:]\n",
      "/home/jovyan/work/Notebooks/rmit-parking-prediction/FeatureConvertor.py:195: SettingWithCopyWarning: \n",
      "A value is trying to be set on a copy of a slice from a DataFrame.\n",
      "Try using .loc[row_indexer,col_indexer] = value instead\n",
      "\n",
      "See the caveats in the documentation: http://pandas.pydata.org/pandas-docs/stable/user_guide/indexing.html#returning-a-view-versus-a-copy\n",
      "  df1[\"wd\"] = df1.apply(lambda row: arrow.get(row[\"datetime\"]).format(\"d\"), axis=1)\n",
      "/home/jovyan/work/Notebooks/rmit-parking-prediction/FeatureConvertor.py:222: SettingWithCopyWarning: \n",
      "A value is trying to be set on a copy of a slice from a DataFrame.\n",
      "Try using .loc[row_indexer,col_indexer] = value instead\n",
      "\n",
      "See the caveats in the documentation: http://pandas.pydata.org/pandas-docs/stable/user_guide/indexing.html#returning-a-view-versus-a-copy\n",
      "  dx[\"datetime\"] = t+\" \"+dx[\"time\"]\n",
      "/home/jovyan/work/Notebooks/rmit-parking-prediction/FeatureConvertor.py:233: SettingWithCopyWarning: \n",
      "A value is trying to be set on a copy of a slice from a DataFrame.\n",
      "Try using .loc[row_indexer,col_indexer] = value instead\n",
      "\n",
      "See the caveats in the documentation: http://pandas.pydata.org/pandas-docs/stable/user_guide/indexing.html#returning-a-view-versus-a-copy\n",
      "  dx[\"datetime\"] = end.format(\"YYYY-MM-DD HH:mm\")\n",
      "/opt/conda/lib/python3.7/site-packages/sklearn/feature_selection/_univariate_selection.py:299: RuntimeWarning: invalid value encountered in true_divide\n",
      "  corr /= X_norms\n",
      "/opt/conda/lib/python3.7/site-packages/scipy/stats/_distn_infrastructure.py:903: RuntimeWarning: invalid value encountered in greater\n",
      "  return (a < x) & (x < b)\n",
      "/opt/conda/lib/python3.7/site-packages/scipy/stats/_distn_infrastructure.py:903: RuntimeWarning: invalid value encountered in less\n",
      "  return (a < x) & (x < b)\n",
      "/opt/conda/lib/python3.7/site-packages/scipy/stats/_distn_infrastructure.py:1912: RuntimeWarning: invalid value encountered in less_equal\n",
      "  cond2 = cond0 & (x <= _a)\n"
     ]
    },
    {
     "data": {
      "text/html": [
       "<table><tr><th>Features</th><th>Pearson<p>Correlation<p>Coefficient</th><th>F Value</th><th>p-Value</th></tr><tr><td>Extreme_weather</td><td>       nan</td><td>       nan</td><td>nan</td></tr><tr><td>num_of_poi1.0</td><td>       nan</td><td>       nan</td><td>nan</td></tr><tr><td>num_of_open_poi1.0</td><td>       nan</td><td>       nan</td><td>nan</td></tr><tr><td>num_of_poi0.5</td><td>       nan</td><td>       nan</td><td>nan</td></tr><tr><td>num_of_open_poi0.5</td><td>       nan</td><td>       nan</td><td>nan</td></tr><tr><td>num_of_poi0.8</td><td>       nan</td><td>       nan</td><td>nan</td></tr><tr><td>DayOfMonth</td><td>      0.40</td><td>   7222.83</td><td>0</td></tr><tr><td>Barometer</td><td>      0.33</td><td>   4531.34</td><td>0</td></tr><tr><td>Hour</td><td>      0.05</td><td>     78.45</td><td>8.56e-19</td></tr><tr><td>Temp</td><td>     -0.49</td><td>  11770.73</td><td>0</td></tr><tr><td>DayOfWeek</td><td>     -0.25</td><td>   2539.61</td><td>0</td></tr><tr><td>Wind</td><td>     -0.12</td><td>    563.51</td><td>1.23e-123</td></tr><tr><td>Humidity</td><td>     -0.02</td><td>     15.22</td><td>9.59e-05</td></tr><tr><td>availability</td><td>     -0.01</td><td>      3.82</td><td>5.05e-02</td></tr><tr><td>min_dis1.0</td><td>     -0.01</td><td>      3.32</td><td>6.85e-02</td></tr></table>"
      ],
      "text/plain": [
       "<IPython.core.display.HTML object>"
      ]
     },
     "metadata": {},
     "output_type": "display_data"
    }
   ],
   "source": [
    "#def showFeaturesCorrelationCoefficient(self,location,start,end):\n",
    "    \n",
    "location = \"Mornington\"\n",
    "features =  [\"Temp\", \"Wind\", \"Humidity\", \"Barometer\", \"Extreme_weather\", \"num_of_poi1.0\", \"num_of_open_poi1.0\", \"num_of_poi0.5\", \"num_of_open_poi0.5\", \"min_dis1.0\", \"num_of_poi0.8\", \"Hour\", \"DayOfWeek\", \"DayOfMonth\", \"availability\"]\n",
    "#features = self.config[\"features\"]\n",
    "ids = exp.getParkingIds(location)\n",
    "\n",
    "npd = None\n",
    "for id in ids:\n",
    "    p1 = trier._getParkingIdDataset(id,5,\"02/01/2020\",\"02/05/2020\",features,location = location)\n",
    "    #print(p1.shape)\n",
    "    if npd is None:\n",
    "        npd = p1\n",
    "    else:\n",
    "        npd = np.concatenate((npd,p1),axis=0)\n",
    "\n",
    "df=pd.DataFrame(data=npd[0:,0:],index=[i for i in range(npd.shape[0])],columns=[\"occupancy\"]+features)\n",
    "\n",
    "c = df.corr(method ='pearson')[\"occupancy\"].values[1:]\n",
    "\n",
    "F, pval = f_regression(npd[0:,1:len(features)+1],npd[0:,0])\n",
    "\n",
    "rst = np.column_stack( (features,c,F,pval))\n",
    "rdf=pd.DataFrame(data=rst[0:,0:],index=[i for i in range(rst.shape[0])],columns=[\"Features\",\"Pearson Correlation Coefficient\",\"F Value\",\"p-Value\"])\n",
    "rdf =rdf.sort_values(by=['Pearson Correlation Coefficient'],ascending=False)\n",
    "\n",
    "html = '<table><tr><th>Features</th><th>Pearson<p>Correlation<p>Coefficient</th><th>F Value</th><th>p-Value</th></tr>'\n",
    "\n",
    "for i in rdf.index:\n",
    "    line =  ('<tr><td>{}</td><td>{:10.2f}</td><td>{:10.2f}</td><td>{}</td></tr>').format(features[i],c[i],F[i],(\"0\" if pval[i] == 0 else \"{:.2e}\".format(pval[i]) ) )\n",
    "    html += line\n",
    "\n",
    "html += '</table>'\n",
    "display(HTML(html))"
   ]
  },
  {
   "cell_type": "code",
   "execution_count": 6,
   "metadata": {
    "ExecuteTime": {
     "end_time": "2020-07-02T13:02:59.891463Z",
     "start_time": "2020-07-02T13:02:59.863651Z"
    },
    "collapsed": true
   },
   "outputs": [
    {
     "data": {
      "text/html": [
       "<div>\n",
       "<style scoped>\n",
       "    .dataframe tbody tr th:only-of-type {\n",
       "        vertical-align: middle;\n",
       "    }\n",
       "\n",
       "    .dataframe tbody tr th {\n",
       "        vertical-align: top;\n",
       "    }\n",
       "\n",
       "    .dataframe thead th {\n",
       "        text-align: right;\n",
       "    }\n",
       "</style>\n",
       "<table border=\"1\" class=\"dataframe\">\n",
       "  <thead>\n",
       "    <tr style=\"text-align: right;\">\n",
       "      <th></th>\n",
       "      <th>occupancy</th>\n",
       "      <th>Temp</th>\n",
       "      <th>Wind</th>\n",
       "      <th>Humidity</th>\n",
       "      <th>Barometer</th>\n",
       "      <th>Extreme_weather</th>\n",
       "      <th>num_of_poi1.0</th>\n",
       "      <th>num_of_open_poi1.0</th>\n",
       "      <th>num_of_poi0.5</th>\n",
       "      <th>num_of_open_poi0.5</th>\n",
       "      <th>min_dis1.0</th>\n",
       "      <th>num_of_poi0.8</th>\n",
       "      <th>Hour</th>\n",
       "      <th>DayOfWeek</th>\n",
       "      <th>DayOfMonth</th>\n",
       "      <th>availability</th>\n",
       "    </tr>\n",
       "  </thead>\n",
       "  <tbody>\n",
       "    <tr>\n",
       "      <th>0</th>\n",
       "      <td>0.0</td>\n",
       "      <td>0.605263</td>\n",
       "      <td>0.122807</td>\n",
       "      <td>0.549451</td>\n",
       "      <td>0.375</td>\n",
       "      <td>0.0</td>\n",
       "      <td>0.0</td>\n",
       "      <td>0.0</td>\n",
       "      <td>0.0</td>\n",
       "      <td>0.0</td>\n",
       "      <td>0.611343</td>\n",
       "      <td>0.0</td>\n",
       "      <td>0.000000</td>\n",
       "      <td>0.857143</td>\n",
       "      <td>0.032258</td>\n",
       "      <td>1.0</td>\n",
       "    </tr>\n",
       "    <tr>\n",
       "      <th>1</th>\n",
       "      <td>0.0</td>\n",
       "      <td>0.605263</td>\n",
       "      <td>0.122807</td>\n",
       "      <td>0.593407</td>\n",
       "      <td>0.375</td>\n",
       "      <td>0.0</td>\n",
       "      <td>0.0</td>\n",
       "      <td>0.0</td>\n",
       "      <td>0.0</td>\n",
       "      <td>0.0</td>\n",
       "      <td>0.611343</td>\n",
       "      <td>0.0</td>\n",
       "      <td>0.000000</td>\n",
       "      <td>0.857143</td>\n",
       "      <td>0.032258</td>\n",
       "      <td>1.0</td>\n",
       "    </tr>\n",
       "    <tr>\n",
       "      <th>2</th>\n",
       "      <td>0.0</td>\n",
       "      <td>0.605263</td>\n",
       "      <td>0.122807</td>\n",
       "      <td>0.593407</td>\n",
       "      <td>0.375</td>\n",
       "      <td>0.0</td>\n",
       "      <td>0.0</td>\n",
       "      <td>0.0</td>\n",
       "      <td>0.0</td>\n",
       "      <td>0.0</td>\n",
       "      <td>0.611343</td>\n",
       "      <td>0.0</td>\n",
       "      <td>0.000000</td>\n",
       "      <td>0.857143</td>\n",
       "      <td>0.032258</td>\n",
       "      <td>1.0</td>\n",
       "    </tr>\n",
       "    <tr>\n",
       "      <th>3</th>\n",
       "      <td>0.0</td>\n",
       "      <td>0.605263</td>\n",
       "      <td>0.122807</td>\n",
       "      <td>0.593407</td>\n",
       "      <td>0.375</td>\n",
       "      <td>0.0</td>\n",
       "      <td>0.0</td>\n",
       "      <td>0.0</td>\n",
       "      <td>0.0</td>\n",
       "      <td>0.0</td>\n",
       "      <td>0.611343</td>\n",
       "      <td>0.0</td>\n",
       "      <td>0.000000</td>\n",
       "      <td>0.857143</td>\n",
       "      <td>0.032258</td>\n",
       "      <td>1.0</td>\n",
       "    </tr>\n",
       "    <tr>\n",
       "      <th>4</th>\n",
       "      <td>0.0</td>\n",
       "      <td>0.605263</td>\n",
       "      <td>0.122807</td>\n",
       "      <td>0.593407</td>\n",
       "      <td>0.375</td>\n",
       "      <td>0.0</td>\n",
       "      <td>0.0</td>\n",
       "      <td>0.0</td>\n",
       "      <td>0.0</td>\n",
       "      <td>0.0</td>\n",
       "      <td>0.611343</td>\n",
       "      <td>0.0</td>\n",
       "      <td>0.000000</td>\n",
       "      <td>0.857143</td>\n",
       "      <td>0.032258</td>\n",
       "      <td>1.0</td>\n",
       "    </tr>\n",
       "    <tr>\n",
       "      <th>...</th>\n",
       "      <td>...</td>\n",
       "      <td>...</td>\n",
       "      <td>...</td>\n",
       "      <td>...</td>\n",
       "      <td>...</td>\n",
       "      <td>...</td>\n",
       "      <td>...</td>\n",
       "      <td>...</td>\n",
       "      <td>...</td>\n",
       "      <td>...</td>\n",
       "      <td>...</td>\n",
       "      <td>...</td>\n",
       "      <td>...</td>\n",
       "      <td>...</td>\n",
       "      <td>...</td>\n",
       "      <td>...</td>\n",
       "    </tr>\n",
       "    <tr>\n",
       "      <th>36859</th>\n",
       "      <td>1.0</td>\n",
       "      <td>0.131579</td>\n",
       "      <td>0.228070</td>\n",
       "      <td>0.659341</td>\n",
       "      <td>0.750</td>\n",
       "      <td>0.0</td>\n",
       "      <td>0.0</td>\n",
       "      <td>0.0</td>\n",
       "      <td>0.0</td>\n",
       "      <td>0.0</td>\n",
       "      <td>0.008175</td>\n",
       "      <td>0.0</td>\n",
       "      <td>0.958333</td>\n",
       "      <td>0.285714</td>\n",
       "      <td>0.129032</td>\n",
       "      <td>0.0</td>\n",
       "    </tr>\n",
       "    <tr>\n",
       "      <th>36860</th>\n",
       "      <td>1.0</td>\n",
       "      <td>0.131579</td>\n",
       "      <td>0.228070</td>\n",
       "      <td>0.659341</td>\n",
       "      <td>0.750</td>\n",
       "      <td>0.0</td>\n",
       "      <td>0.0</td>\n",
       "      <td>0.0</td>\n",
       "      <td>0.0</td>\n",
       "      <td>0.0</td>\n",
       "      <td>0.008175</td>\n",
       "      <td>0.0</td>\n",
       "      <td>0.958333</td>\n",
       "      <td>0.285714</td>\n",
       "      <td>0.129032</td>\n",
       "      <td>0.0</td>\n",
       "    </tr>\n",
       "    <tr>\n",
       "      <th>36861</th>\n",
       "      <td>1.0</td>\n",
       "      <td>0.131579</td>\n",
       "      <td>0.228070</td>\n",
       "      <td>0.659341</td>\n",
       "      <td>0.750</td>\n",
       "      <td>0.0</td>\n",
       "      <td>0.0</td>\n",
       "      <td>0.0</td>\n",
       "      <td>0.0</td>\n",
       "      <td>0.0</td>\n",
       "      <td>0.008175</td>\n",
       "      <td>0.0</td>\n",
       "      <td>0.958333</td>\n",
       "      <td>0.285714</td>\n",
       "      <td>0.129032</td>\n",
       "      <td>0.0</td>\n",
       "    </tr>\n",
       "    <tr>\n",
       "      <th>36862</th>\n",
       "      <td>1.0</td>\n",
       "      <td>0.131579</td>\n",
       "      <td>0.228070</td>\n",
       "      <td>0.659341</td>\n",
       "      <td>0.750</td>\n",
       "      <td>0.0</td>\n",
       "      <td>0.0</td>\n",
       "      <td>0.0</td>\n",
       "      <td>0.0</td>\n",
       "      <td>0.0</td>\n",
       "      <td>0.008175</td>\n",
       "      <td>0.0</td>\n",
       "      <td>0.958333</td>\n",
       "      <td>0.285714</td>\n",
       "      <td>0.129032</td>\n",
       "      <td>0.0</td>\n",
       "    </tr>\n",
       "    <tr>\n",
       "      <th>36863</th>\n",
       "      <td>1.0</td>\n",
       "      <td>0.131579</td>\n",
       "      <td>0.228070</td>\n",
       "      <td>0.659341</td>\n",
       "      <td>0.750</td>\n",
       "      <td>0.0</td>\n",
       "      <td>0.0</td>\n",
       "      <td>0.0</td>\n",
       "      <td>0.0</td>\n",
       "      <td>0.0</td>\n",
       "      <td>0.008175</td>\n",
       "      <td>0.0</td>\n",
       "      <td>0.958333</td>\n",
       "      <td>0.285714</td>\n",
       "      <td>0.129032</td>\n",
       "      <td>0.0</td>\n",
       "    </tr>\n",
       "  </tbody>\n",
       "</table>\n",
       "<p>36864 rows × 16 columns</p>\n",
       "</div>"
      ],
      "text/plain": [
       "       occupancy      Temp      Wind  Humidity  Barometer  Extreme_weather  \\\n",
       "0            0.0  0.605263  0.122807  0.549451      0.375              0.0   \n",
       "1            0.0  0.605263  0.122807  0.593407      0.375              0.0   \n",
       "2            0.0  0.605263  0.122807  0.593407      0.375              0.0   \n",
       "3            0.0  0.605263  0.122807  0.593407      0.375              0.0   \n",
       "4            0.0  0.605263  0.122807  0.593407      0.375              0.0   \n",
       "...          ...       ...       ...       ...        ...              ...   \n",
       "36859        1.0  0.131579  0.228070  0.659341      0.750              0.0   \n",
       "36860        1.0  0.131579  0.228070  0.659341      0.750              0.0   \n",
       "36861        1.0  0.131579  0.228070  0.659341      0.750              0.0   \n",
       "36862        1.0  0.131579  0.228070  0.659341      0.750              0.0   \n",
       "36863        1.0  0.131579  0.228070  0.659341      0.750              0.0   \n",
       "\n",
       "       num_of_poi1.0  num_of_open_poi1.0  num_of_poi0.5  num_of_open_poi0.5  \\\n",
       "0                0.0                 0.0            0.0                 0.0   \n",
       "1                0.0                 0.0            0.0                 0.0   \n",
       "2                0.0                 0.0            0.0                 0.0   \n",
       "3                0.0                 0.0            0.0                 0.0   \n",
       "4                0.0                 0.0            0.0                 0.0   \n",
       "...              ...                 ...            ...                 ...   \n",
       "36859            0.0                 0.0            0.0                 0.0   \n",
       "36860            0.0                 0.0            0.0                 0.0   \n",
       "36861            0.0                 0.0            0.0                 0.0   \n",
       "36862            0.0                 0.0            0.0                 0.0   \n",
       "36863            0.0                 0.0            0.0                 0.0   \n",
       "\n",
       "       min_dis1.0  num_of_poi0.8      Hour  DayOfWeek  DayOfMonth  \\\n",
       "0        0.611343            0.0  0.000000   0.857143    0.032258   \n",
       "1        0.611343            0.0  0.000000   0.857143    0.032258   \n",
       "2        0.611343            0.0  0.000000   0.857143    0.032258   \n",
       "3        0.611343            0.0  0.000000   0.857143    0.032258   \n",
       "4        0.611343            0.0  0.000000   0.857143    0.032258   \n",
       "...           ...            ...       ...        ...         ...   \n",
       "36859    0.008175            0.0  0.958333   0.285714    0.129032   \n",
       "36860    0.008175            0.0  0.958333   0.285714    0.129032   \n",
       "36861    0.008175            0.0  0.958333   0.285714    0.129032   \n",
       "36862    0.008175            0.0  0.958333   0.285714    0.129032   \n",
       "36863    0.008175            0.0  0.958333   0.285714    0.129032   \n",
       "\n",
       "       availability  \n",
       "0               1.0  \n",
       "1               1.0  \n",
       "2               1.0  \n",
       "3               1.0  \n",
       "4               1.0  \n",
       "...             ...  \n",
       "36859           0.0  \n",
       "36860           0.0  \n",
       "36861           0.0  \n",
       "36862           0.0  \n",
       "36863           0.0  \n",
       "\n",
       "[36864 rows x 16 columns]"
      ]
     },
     "execution_count": 6,
     "metadata": {},
     "output_type": "execute_result"
    }
   ],
   "source": [
    "df"
   ]
  },
  {
   "cell_type": "code",
   "execution_count": 83,
   "metadata": {
    "ExecuteTime": {
     "end_time": "2020-07-02T12:06:06.327519Z",
     "start_time": "2020-07-02T12:06:06.135149Z"
    }
   },
   "outputs": [],
   "source": [
    "c = df.corr(method ='pearson')[\"occupancy\"].values[1:]"
   ]
  },
  {
   "cell_type": "code",
   "execution_count": 84,
   "metadata": {
    "ExecuteTime": {
     "end_time": "2020-07-02T12:06:06.937107Z",
     "start_time": "2020-07-02T12:06:06.916622Z"
    }
   },
   "outputs": [],
   "source": [
    "F, pval = f_regression(npd[0:,1:len(features)+1],npd[0:,0])"
   ]
  },
  {
   "cell_type": "code",
   "execution_count": 85,
   "metadata": {
    "ExecuteTime": {
     "end_time": "2020-07-02T12:06:07.656389Z",
     "start_time": "2020-07-02T12:06:07.652687Z"
    }
   },
   "outputs": [
    {
     "data": {
      "text/plain": [
       "(15,)"
      ]
     },
     "execution_count": 85,
     "metadata": {},
     "output_type": "execute_result"
    }
   ],
   "source": [
    "F.shape"
   ]
  },
  {
   "cell_type": "code",
   "execution_count": 86,
   "metadata": {
    "ExecuteTime": {
     "end_time": "2020-07-02T12:06:08.472300Z",
     "start_time": "2020-07-02T12:06:08.467217Z"
    }
   },
   "outputs": [],
   "source": [
    "rst = np.column_stack( (features,c,F,pval))\n",
    "rdf=pd.DataFrame(data=rst[0:,0:],index=[i for i in range(rst.shape[0])],columns=[\"Features\",\"Pearson Correlation Coefficient\",\"F Value\",\"p-Value\"])"
   ]
  },
  {
   "cell_type": "code",
   "execution_count": 87,
   "metadata": {
    "ExecuteTime": {
     "end_time": "2020-07-02T12:06:09.806020Z",
     "start_time": "2020-07-02T12:06:09.794763Z"
    },
    "scrolled": true
   },
   "outputs": [
    {
     "data": {
      "text/html": [
       "<div>\n",
       "<style scoped>\n",
       "    .dataframe tbody tr th:only-of-type {\n",
       "        vertical-align: middle;\n",
       "    }\n",
       "\n",
       "    .dataframe tbody tr th {\n",
       "        vertical-align: top;\n",
       "    }\n",
       "\n",
       "    .dataframe thead th {\n",
       "        text-align: right;\n",
       "    }\n",
       "</style>\n",
       "<table border=\"1\" class=\"dataframe\">\n",
       "  <thead>\n",
       "    <tr style=\"text-align: right;\">\n",
       "      <th></th>\n",
       "      <th>Features</th>\n",
       "      <th>Pearson Correlation Coefficient</th>\n",
       "      <th>F Value</th>\n",
       "      <th>p-Value</th>\n",
       "    </tr>\n",
       "  </thead>\n",
       "  <tbody>\n",
       "    <tr>\n",
       "      <th>6</th>\n",
       "      <td>num_of_open_poi1.0</td>\n",
       "      <td>0.3427135486282454</td>\n",
       "      <td>51742.63227547082</td>\n",
       "      <td>0.0</td>\n",
       "    </tr>\n",
       "    <tr>\n",
       "      <th>8</th>\n",
       "      <td>num_of_open_poi0.5</td>\n",
       "      <td>0.3330716173867688</td>\n",
       "      <td>48513.94506571856</td>\n",
       "      <td>0.0</td>\n",
       "    </tr>\n",
       "    <tr>\n",
       "      <th>0</th>\n",
       "      <td>Temp</td>\n",
       "      <td>0.22952862586059314</td>\n",
       "      <td>21622.33458765325</td>\n",
       "      <td>0.0</td>\n",
       "    </tr>\n",
       "    <tr>\n",
       "      <th>11</th>\n",
       "      <td>Hour</td>\n",
       "      <td>0.1575532565654961</td>\n",
       "      <td>9896.812761491634</td>\n",
       "      <td>0.0</td>\n",
       "    </tr>\n",
       "    <tr>\n",
       "      <th>1</th>\n",
       "      <td>Wind</td>\n",
       "      <td>0.13178393868327687</td>\n",
       "      <td>6871.5964514243005</td>\n",
       "      <td>0.0</td>\n",
       "    </tr>\n",
       "    <tr>\n",
       "      <th>7</th>\n",
       "      <td>num_of_poi0.5</td>\n",
       "      <td>0.09251716633186902</td>\n",
       "      <td>3356.6184632141485</td>\n",
       "      <td>0.0</td>\n",
       "    </tr>\n",
       "    <tr>\n",
       "      <th>12</th>\n",
       "      <td>DayOfWeek</td>\n",
       "      <td>0.07266046393502812</td>\n",
       "      <td>2063.5704758925867</td>\n",
       "      <td>0.0</td>\n",
       "    </tr>\n",
       "    <tr>\n",
       "      <th>10</th>\n",
       "      <td>num_of_poi0.8</td>\n",
       "      <td>0.0692930279902871</td>\n",
       "      <td>1875.829663051787</td>\n",
       "      <td>0.0</td>\n",
       "    </tr>\n",
       "    <tr>\n",
       "      <th>5</th>\n",
       "      <td>num_of_poi1.0</td>\n",
       "      <td>0.054289550871902674</td>\n",
       "      <td>1149.3132937611329</td>\n",
       "      <td>1.4788415753629443e-251</td>\n",
       "    </tr>\n",
       "    <tr>\n",
       "      <th>14</th>\n",
       "      <td>availability</td>\n",
       "      <td>0.016735087796474563</td>\n",
       "      <td>108.91850192564763</td>\n",
       "      <td>1.7041591527174314e-25</td>\n",
       "    </tr>\n",
       "    <tr>\n",
       "      <th>13</th>\n",
       "      <td>DayOfMonth</td>\n",
       "      <td>0.014217722562261729</td>\n",
       "      <td>78.6089312403246</td>\n",
       "      <td>7.601537479919644e-19</td>\n",
       "    </tr>\n",
       "    <tr>\n",
       "      <th>2</th>\n",
       "      <td>Humidity</td>\n",
       "      <td>-0.25220136532966303</td>\n",
       "      <td>26409.492040591565</td>\n",
       "      <td>0.0</td>\n",
       "    </tr>\n",
       "    <tr>\n",
       "      <th>9</th>\n",
       "      <td>min_dis1.0</td>\n",
       "      <td>-0.03829428926721173</td>\n",
       "      <td>570.991165750471</td>\n",
       "      <td>4.216836833507118e-126</td>\n",
       "    </tr>\n",
       "    <tr>\n",
       "      <th>4</th>\n",
       "      <td>Extreme_weather</td>\n",
       "      <td>-0.026630038521814923</td>\n",
       "      <td>275.91524986158095</td>\n",
       "      <td>6.125762023195546e-62</td>\n",
       "    </tr>\n",
       "    <tr>\n",
       "      <th>3</th>\n",
       "      <td>Barometer</td>\n",
       "      <td>-0.007659851812595268</td>\n",
       "      <td>22.81341181478491</td>\n",
       "      <td>1.7858048222701663e-06</td>\n",
       "    </tr>\n",
       "  </tbody>\n",
       "</table>\n",
       "</div>"
      ],
      "text/plain": [
       "              Features Pearson Correlation Coefficient             F Value  \\\n",
       "6   num_of_open_poi1.0              0.3427135486282454   51742.63227547082   \n",
       "8   num_of_open_poi0.5              0.3330716173867688   48513.94506571856   \n",
       "0                 Temp             0.22952862586059314   21622.33458765325   \n",
       "11                Hour              0.1575532565654961   9896.812761491634   \n",
       "1                 Wind             0.13178393868327687  6871.5964514243005   \n",
       "7        num_of_poi0.5             0.09251716633186902  3356.6184632141485   \n",
       "12           DayOfWeek             0.07266046393502812  2063.5704758925867   \n",
       "10       num_of_poi0.8              0.0692930279902871   1875.829663051787   \n",
       "5        num_of_poi1.0            0.054289550871902674  1149.3132937611329   \n",
       "14        availability            0.016735087796474563  108.91850192564763   \n",
       "13          DayOfMonth            0.014217722562261729    78.6089312403246   \n",
       "2             Humidity            -0.25220136532966303  26409.492040591565   \n",
       "9           min_dis1.0            -0.03829428926721173    570.991165750471   \n",
       "4      Extreme_weather           -0.026630038521814923  275.91524986158095   \n",
       "3            Barometer           -0.007659851812595268   22.81341181478491   \n",
       "\n",
       "                    p-Value  \n",
       "6                       0.0  \n",
       "8                       0.0  \n",
       "0                       0.0  \n",
       "11                      0.0  \n",
       "1                       0.0  \n",
       "7                       0.0  \n",
       "12                      0.0  \n",
       "10                      0.0  \n",
       "5   1.4788415753629443e-251  \n",
       "14   1.7041591527174314e-25  \n",
       "13    7.601537479919644e-19  \n",
       "2                       0.0  \n",
       "9    4.216836833507118e-126  \n",
       "4     6.125762023195546e-62  \n",
       "3    1.7858048222701663e-06  "
      ]
     },
     "execution_count": 87,
     "metadata": {},
     "output_type": "execute_result"
    }
   ],
   "source": [
    "#rdf = rdf.sort(['Pearson Correlation Coefficient', ' F Value'], ascending=[1, 1])\n",
    "rdf =rdf.sort_values(by=['Pearson Correlation Coefficient'],ascending=False)\n",
    "rdf"
   ]
  },
  {
   "cell_type": "code",
   "execution_count": 88,
   "metadata": {
    "ExecuteTime": {
     "end_time": "2020-07-02T12:06:43.296000Z",
     "start_time": "2020-07-02T12:06:43.290110Z"
    }
   },
   "outputs": [
    {
     "data": {
      "text/plain": [
       "array(['num_of_open_poi1.0', 'num_of_open_poi0.5', 'Temp', 'Hour', 'Wind',\n",
       "       'num_of_poi0.5', 'DayOfWeek', 'num_of_poi0.8', 'num_of_poi1.0',\n",
       "       'availability', 'DayOfMonth', 'Humidity', 'min_dis1.0',\n",
       "       'Extreme_weather', 'Barometer'], dtype=object)"
      ]
     },
     "execution_count": 88,
     "metadata": {},
     "output_type": "execute_result"
    }
   ],
   "source": [
    "rdf['Features'].unique()\n"
   ]
  },
  {
   "cell_type": "code",
   "execution_count": 91,
   "metadata": {
    "ExecuteTime": {
     "end_time": "2020-07-02T12:07:38.600243Z",
     "start_time": "2020-07-02T12:07:38.593717Z"
    }
   },
   "outputs": [
    {
     "name": "stdout",
     "output_type": "stream",
     "text": [
      "6\n",
      "8\n",
      "0\n",
      "11\n",
      "1\n",
      "7\n",
      "12\n",
      "10\n",
      "5\n",
      "14\n",
      "13\n",
      "2\n",
      "9\n",
      "4\n",
      "3\n"
     ]
    }
   ],
   "source": [
    "for i in rdf.index:\n",
    "    print(i)"
   ]
  },
  {
   "cell_type": "code",
   "execution_count": 93,
   "metadata": {
    "ExecuteTime": {
     "end_time": "2020-07-02T12:08:06.211257Z",
     "start_time": "2020-07-02T12:08:06.202230Z"
    }
   },
   "outputs": [
    {
     "data": {
      "text/html": [
       "<table><tr><th>Features</th><th>Pearson<p>Correlation<p>Coefficient</th><th>F Value</th><th>p-Value</th></tr><tr><td>num_of_open_poi1.0</td><td>      0.34</td><td>  51742.63</td><td>0</td></tr><tr><td>num_of_open_poi0.5</td><td>      0.33</td><td>  48513.95</td><td>0</td></tr><tr><td>Temp</td><td>      0.23</td><td>  21622.33</td><td>0</td></tr><tr><td>Hour</td><td>      0.16</td><td>   9896.81</td><td>0</td></tr><tr><td>Wind</td><td>      0.13</td><td>   6871.60</td><td>0</td></tr><tr><td>num_of_poi0.5</td><td>      0.09</td><td>   3356.62</td><td>0</td></tr><tr><td>DayOfWeek</td><td>      0.07</td><td>   2063.57</td><td>0</td></tr><tr><td>num_of_poi0.8</td><td>      0.07</td><td>   1875.83</td><td>0</td></tr><tr><td>num_of_poi1.0</td><td>      0.05</td><td>   1149.31</td><td>1.48e-251</td></tr><tr><td>availability</td><td>      0.02</td><td>    108.92</td><td>1.70e-25</td></tr><tr><td>DayOfMonth</td><td>      0.01</td><td>     78.61</td><td>7.60e-19</td></tr><tr><td>Humidity</td><td>     -0.25</td><td>  26409.49</td><td>0</td></tr><tr><td>min_dis1.0</td><td>     -0.04</td><td>    570.99</td><td>4.22e-126</td></tr><tr><td>Extreme_weather</td><td>     -0.03</td><td>    275.92</td><td>6.13e-62</td></tr><tr><td>Barometer</td><td>     -0.01</td><td>     22.81</td><td>1.79e-06</td></tr></table>"
      ],
      "text/plain": [
       "<IPython.core.display.HTML object>"
      ]
     },
     "metadata": {},
     "output_type": "display_data"
    }
   ],
   "source": [
    "from IPython.display import HTML, display\n",
    "\n",
    "html = '<table><tr><th>Features</th><th>Pearson<p>Correlation<p>Coefficient</th><th>F Value</th><th>p-Value</th></tr>'\n",
    "\n",
    "for i in rdf.index:\n",
    "    line =  ('<tr><td>{}</td><td>{:10.2f}</td><td>{:10.2f}</td><td>{}</td></tr>').format(features[i],c[i],F[i],(\"0\" if pval[i] == 0 else \"{:.2e}\".format(pval[i]) ) )\n",
    "    html += line\n",
    "    \n",
    "html += '</table>'\n",
    "display(HTML(html))"
   ]
  },
  {
   "cell_type": "code",
   "execution_count": 28,
   "metadata": {
    "ExecuteTime": {
     "end_time": "2020-07-02T11:03:40.926632Z",
     "start_time": "2020-07-02T11:03:37.642295Z"
    },
    "collapsed": true
   },
   "outputs": [
    {
     "name": "stderr",
     "output_type": "stream",
     "text": [
      "/home/jovyan/work/Notebooks/rmit-parking-prediction/FeatureConvertor.py:115: SettingWithCopyWarning: \n",
      "A value is trying to be set on a copy of a slice from a DataFrame.\n",
      "Try using .loc[row_indexer,col_indexer] = value instead\n",
      "\n",
      "See the caveats in the documentation: http://pandas.pydata.org/pandas-docs/stable/user_guide/indexing.html#returning-a-view-versus-a-copy\n",
      "  df1['day'] = df1[\"datetime\"].str[:10]\n",
      "/home/jovyan/work/Notebooks/rmit-parking-prediction/FeatureConvertor.py:116: SettingWithCopyWarning: \n",
      "A value is trying to be set on a copy of a slice from a DataFrame.\n",
      "Try using .loc[row_indexer,col_indexer] = value instead\n",
      "\n",
      "See the caveats in the documentation: http://pandas.pydata.org/pandas-docs/stable/user_guide/indexing.html#returning-a-view-versus-a-copy\n",
      "  df1['time'] = df1[\"datetime\"].str[11:]\n",
      "/home/jovyan/work/Notebooks/rmit-parking-prediction/FeatureConvertor.py:118: SettingWithCopyWarning: \n",
      "A value is trying to be set on a copy of a slice from a DataFrame.\n",
      "Try using .loc[row_indexer,col_indexer] = value instead\n",
      "\n",
      "See the caveats in the documentation: http://pandas.pydata.org/pandas-docs/stable/user_guide/indexing.html#returning-a-view-versus-a-copy\n",
      "  df1[\"wd\"] = df1.apply(lambda row: arrow.get(row[\"datetime\"]).format(\"d\"), axis=1)\n",
      "/home/jovyan/work/Notebooks/rmit-parking-prediction/FeatureConvertor.py:130: SettingWithCopyWarning: \n",
      "A value is trying to be set on a copy of a slice from a DataFrame.\n",
      "Try using .loc[row_indexer,col_indexer] = value instead\n",
      "\n",
      "See the caveats in the documentation: http://pandas.pydata.org/pandas-docs/stable/user_guide/indexing.html#returning-a-view-versus-a-copy\n",
      "  dx[\"datetime\"] = t+\" \"+dx[\"time\"]\n",
      "/home/jovyan/work/Notebooks/rmit-parking-prediction/FeatureConvertor.py:141: SettingWithCopyWarning: \n",
      "A value is trying to be set on a copy of a slice from a DataFrame.\n",
      "Try using .loc[row_indexer,col_indexer] = value instead\n",
      "\n",
      "See the caveats in the documentation: http://pandas.pydata.org/pandas-docs/stable/user_guide/indexing.html#returning-a-view-versus-a-copy\n",
      "  dx[\"datetime\"] = end.format(\"YYYY-MM-DD HH:mm\")\n",
      "/home/jovyan/work/Notebooks/rmit-parking-prediction/FeatureConvertor.py:192: SettingWithCopyWarning: \n",
      "A value is trying to be set on a copy of a slice from a DataFrame.\n",
      "Try using .loc[row_indexer,col_indexer] = value instead\n",
      "\n",
      "See the caveats in the documentation: http://pandas.pydata.org/pandas-docs/stable/user_guide/indexing.html#returning-a-view-versus-a-copy\n",
      "  df1['day'] = df1[\"datetime\"].str[:10]\n",
      "/home/jovyan/work/Notebooks/rmit-parking-prediction/FeatureConvertor.py:193: SettingWithCopyWarning: \n",
      "A value is trying to be set on a copy of a slice from a DataFrame.\n",
      "Try using .loc[row_indexer,col_indexer] = value instead\n",
      "\n",
      "See the caveats in the documentation: http://pandas.pydata.org/pandas-docs/stable/user_guide/indexing.html#returning-a-view-versus-a-copy\n",
      "  df1['time'] = df1[\"datetime\"].str[11:]\n",
      "/home/jovyan/work/Notebooks/rmit-parking-prediction/FeatureConvertor.py:195: SettingWithCopyWarning: \n",
      "A value is trying to be set on a copy of a slice from a DataFrame.\n",
      "Try using .loc[row_indexer,col_indexer] = value instead\n",
      "\n",
      "See the caveats in the documentation: http://pandas.pydata.org/pandas-docs/stable/user_guide/indexing.html#returning-a-view-versus-a-copy\n",
      "  df1[\"wd\"] = df1.apply(lambda row: arrow.get(row[\"datetime\"]).format(\"d\"), axis=1)\n",
      "/home/jovyan/work/Notebooks/rmit-parking-prediction/FeatureConvertor.py:222: SettingWithCopyWarning: \n",
      "A value is trying to be set on a copy of a slice from a DataFrame.\n",
      "Try using .loc[row_indexer,col_indexer] = value instead\n",
      "\n",
      "See the caveats in the documentation: http://pandas.pydata.org/pandas-docs/stable/user_guide/indexing.html#returning-a-view-versus-a-copy\n",
      "  dx[\"datetime\"] = t+\" \"+dx[\"time\"]\n",
      "/home/jovyan/work/Notebooks/rmit-parking-prediction/FeatureConvertor.py:233: SettingWithCopyWarning: \n",
      "A value is trying to be set on a copy of a slice from a DataFrame.\n",
      "Try using .loc[row_indexer,col_indexer] = value instead\n",
      "\n",
      "See the caveats in the documentation: http://pandas.pydata.org/pandas-docs/stable/user_guide/indexing.html#returning-a-view-versus-a-copy\n",
      "  dx[\"datetime\"] = end.format(\"YYYY-MM-DD HH:mm\")\n"
     ]
    }
   ],
   "source": [
    "p1 = trier._getParkingIdDataset(\"127\",5,\"02/01/2017\",\"02/28/2017\",features)"
   ]
  },
  {
   "cell_type": "code",
   "execution_count": 29,
   "metadata": {
    "ExecuteTime": {
     "end_time": "2020-07-02T11:03:47.534273Z",
     "start_time": "2020-07-02T11:03:47.529755Z"
    }
   },
   "outputs": [
    {
     "data": {
      "text/plain": [
       "(7776, 16)"
      ]
     },
     "execution_count": 29,
     "metadata": {},
     "output_type": "execute_result"
    }
   ],
   "source": [
    "p1.shape"
   ]
  },
  {
   "cell_type": "code",
   "execution_count": 33,
   "metadata": {
    "ExecuteTime": {
     "end_time": "2020-07-02T11:12:10.239847Z",
     "start_time": "2020-07-02T11:12:10.235211Z"
    }
   },
   "outputs": [],
   "source": [
    "x = p1[0:,1:16]\n",
    "y = p1[0:,0]"
   ]
  },
  {
   "cell_type": "code",
   "execution_count": 36,
   "metadata": {
    "ExecuteTime": {
     "end_time": "2020-07-02T11:12:45.744310Z",
     "start_time": "2020-07-02T11:12:45.684345Z"
    }
   },
   "outputs": [
    {
     "name": "stderr",
     "output_type": "stream",
     "text": [
      "/opt/conda/lib/python3.7/site-packages/sklearn/feature_selection/_univariate_selection.py:293: RuntimeWarning: invalid value encountered in sqrt\n",
      "  n_samples * X_means ** 2)\n",
      "/opt/conda/lib/python3.7/site-packages/sklearn/feature_selection/_univariate_selection.py:299: RuntimeWarning: divide by zero encountered in true_divide\n",
      "  corr /= X_norms\n",
      "/opt/conda/lib/python3.7/site-packages/sklearn/feature_selection/_univariate_selection.py:304: RuntimeWarning: invalid value encountered in true_divide\n",
      "  F = corr ** 2 / (1 - corr ** 2) * degrees_of_freedom\n",
      "/opt/conda/lib/python3.7/site-packages/scipy/stats/_distn_infrastructure.py:903: RuntimeWarning: invalid value encountered in greater\n",
      "  return (a < x) & (x < b)\n",
      "/opt/conda/lib/python3.7/site-packages/scipy/stats/_distn_infrastructure.py:903: RuntimeWarning: invalid value encountered in less\n",
      "  return (a < x) & (x < b)\n",
      "/opt/conda/lib/python3.7/site-packages/scipy/stats/_distn_infrastructure.py:1912: RuntimeWarning: invalid value encountered in less_equal\n",
      "  cond2 = cond0 & (x <= _a)\n"
     ]
    },
    {
     "data": {
      "text/plain": [
       "(array([6.16473794e+02, 2.40339694e+01, 5.22849715e+02, 3.16790020e+00,\n",
       "        1.52861196e+01,            nan, 1.31505982e+03, 1.52921879e-14,\n",
       "        1.34249924e+03,            nan,            nan, 3.21199640e+02,\n",
       "        4.14165570e-01, 5.03096206e+01,            nan]),\n",
       " array([5.01282515e-131, 9.65685787e-007, 4.73868737e-112, 7.51379924e-002,\n",
       "        9.31784435e-005,             nan, 3.53321255e-266, 1.00000000e+000,\n",
       "        2.85578448e-271,             nan,             nan, 2.04532130e-070,\n",
       "        5.19881746e-001, 1.42845017e-012,             nan]))"
      ]
     },
     "execution_count": 36,
     "metadata": {},
     "output_type": "execute_result"
    }
   ],
   "source": [
    "f_regression(x,y)"
   ]
  },
  {
   "cell_type": "code",
   "execution_count": 5,
   "metadata": {
    "ExecuteTime": {
     "end_time": "2020-07-03T03:31:55.908079Z",
     "start_time": "2020-07-03T03:31:55.516726Z"
    }
   },
   "outputs": [],
   "source": [
    "x = np.load(os.path.join(\"./eptest/test/MelbCity/x.npy\"),allow_pickle=True)"
   ]
  },
  {
   "cell_type": "code",
   "execution_count": 6,
   "metadata": {
    "ExecuteTime": {
     "end_time": "2020-07-03T03:32:01.100252Z",
     "start_time": "2020-07-03T03:32:01.095063Z"
    }
   },
   "outputs": [
    {
     "data": {
      "text/plain": [
       "(5705, 6, 16)"
      ]
     },
     "execution_count": 6,
     "metadata": {},
     "output_type": "execute_result"
    }
   ],
   "source": [
    "x.shape"
   ]
  },
  {
   "cell_type": "code",
   "execution_count": 7,
   "metadata": {
    "ExecuteTime": {
     "end_time": "2020-07-03T03:33:15.813753Z",
     "start_time": "2020-07-03T03:33:15.802974Z"
    }
   },
   "outputs": [],
   "source": [
    "trainIndex = np.load(os.path.join(\"./eptest/test/MelbCity/trainIndex.npy\"),allow_pickle=True)"
   ]
  },
  {
   "cell_type": "code",
   "execution_count": 8,
   "metadata": {
    "ExecuteTime": {
     "end_time": "2020-07-03T03:33:22.070330Z",
     "start_time": "2020-07-03T03:33:22.065424Z"
    }
   },
   "outputs": [
    {
     "data": {
      "text/plain": [
       "(0,)"
      ]
     },
     "execution_count": 8,
     "metadata": {},
     "output_type": "execute_result"
    }
   ],
   "source": [
    "trainIndex.shape"
   ]
  },
  {
   "cell_type": "code",
   "execution_count": null,
   "metadata": {},
   "outputs": [],
   "source": []
  }
 ],
 "metadata": {
  "hide_input": false,
  "kernelspec": {
   "display_name": "Python 3",
   "language": "python",
   "name": "python3"
  },
  "language_info": {
   "codemirror_mode": {
    "name": "ipython",
    "version": 3
   },
   "file_extension": ".py",
   "mimetype": "text/x-python",
   "name": "python",
   "nbconvert_exporter": "python",
   "pygments_lexer": "ipython3",
   "version": "3.7.9"
  },
  "toc": {
   "base_numbering": 1,
   "nav_menu": {},
   "number_sections": true,
   "sideBar": true,
   "skip_h1_title": false,
   "title_cell": "Table of Contents",
   "title_sidebar": "Contents",
   "toc_cell": false,
   "toc_position": {},
   "toc_section_display": true,
   "toc_window_display": false
  },
  "varInspector": {
   "cols": {
    "lenName": 16,
    "lenType": 16,
    "lenVar": 40
   },
   "kernels_config": {
    "python": {
     "delete_cmd_postfix": "",
     "delete_cmd_prefix": "del ",
     "library": "var_list.py",
     "varRefreshCmd": "print(var_dic_list())"
    },
    "r": {
     "delete_cmd_postfix": ") ",
     "delete_cmd_prefix": "rm(",
     "library": "var_list.r",
     "varRefreshCmd": "cat(var_dic_list()) "
    }
   },
   "types_to_exclude": [
    "module",
    "function",
    "builtin_function_or_method",
    "instance",
    "_Feature"
   ],
   "window_display": false
  }
 },
 "nbformat": 4,
 "nbformat_minor": 4
}
