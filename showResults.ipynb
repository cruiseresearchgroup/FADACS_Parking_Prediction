{
 "cells": [
  {
   "cell_type": "code",
   "execution_count": 1,
   "metadata": {
    "ExecuteTime": {
     "end_time": "2020-07-07T04:18:24.284952Z",
     "start_time": "2020-07-07T04:18:24.274747Z"
    }
   },
   "outputs": [
    {
     "data": {
      "text/html": [
       "<style>.container { width:100% !important; }</style>"
      ],
      "text/plain": [
       "<IPython.core.display.HTML object>"
      ]
     },
     "metadata": {},
     "output_type": "display_data"
    }
   ],
   "source": [
    "from IPython.core.display import display, HTML\n",
    "display(HTML('<style>.container { width:100% !important; }</style>'))"
   ]
  },
  {
   "cell_type": "code",
   "execution_count": 13,
   "metadata": {
    "ExecuteTime": {
     "end_time": "2020-07-07T04:29:18.189375Z",
     "start_time": "2020-07-07T04:29:18.136110Z"
    }
   },
   "outputs": [],
   "source": [
    "import json\n",
    "from IPython.display import HTML, display\n",
    "\n",
    "numFormat = \"{:10.4f}\"\n",
    "\n",
    "def showEXPResult(filePath):\n",
    "    with open(filePath) as json_file:\n",
    "        data = json.load(json_file)\n",
    "        html = '<h3>Baseline Models ('+filePath+') </h3><table><tr><th>Model</th><th>Matching Metric</th><th>Matching Source</th><th>Location</th><th>MAE (5/15/30 mins)</th><th>RMSE (5/15/30 mins)</th><th>R2 (5/15/30 mins)</th><th>EID</th></tr>'\n",
    "        html2 = '<h3>Transfer Learning Models ('+filePath+')</h3><table><tr><th>Model</th><th>Matching Metric</th><th>Matching Source</th><th>Srouce</th><th>Target</th><th>Source MAE (5/15/30 mins)</th><th>Srouce RMSE (5/15/30 mins)</th><th>Target MAE (5/15/30 mins)</th><th>Target RMSE (5/15/30 mins)</th><th>EID</th></tr>'\n",
    "\n",
    "        for key, result in data[\"results\"].items():\n",
    "            if key in data[\"experiments\"]:\n",
    "                if data[\"experiments\"][key][\"model\"] != \"ADDA\":\n",
    "                    line = '<tr><td>{}</td><td>{}</td><td>{}</td><td>{}</td><td>{}</td><td>{}</td><td>{}</td><td>{}</td></tr>'.format(\n",
    "                         data[\"experiments\"][key][\"model\"],\n",
    "                        data[\"locations\"][\"MelbCity\"][\"ParkingIDMetric\"],\n",
    "                        data[\"medianSource\"],\n",
    "                        data[\"experiments\"][key][\"location\"],\n",
    "                        (numFormat+\" / \"+numFormat+\" / \"+numFormat).format(result[0][\"t1\"][\"mae\"],result[1][\"t3\"][\"mae\"],result[2][\"t6\"][\"mae\"]),\n",
    "                        (numFormat+\" / \"+numFormat+\" / \"+numFormat).format(result[0][\"t1\"][\"rmse\"],result[1][\"t3\"][\"rmse\"],result[2][\"t6\"][\"rmse\"]),\n",
    "                        (numFormat+\" / \"+numFormat+\" / \"+numFormat).format(result[0][\"t1\"][\"r2\"],result[1][\"t3\"][\"r2\"],result[2][\"t6\"][\"r2\"]),key\n",
    "                    )\n",
    "                    #print( \"{:10.6f} / {:10.6f} / {:10.6f}\".format(result[0][\"t1\"][\"mae\"],result[1][\"t3\"][\"mae\"],result[2][\"t6\"][\"mae\"]))\n",
    "                    html += line\n",
    "                else:\n",
    "                    line = '<tr><td>{}</td><td>{}</td><td>{}</td><td>{}</td><td>{}</td><td>{}</td><td>{}</td><td>{}</td><td>{}</td><td>{}</td></tr>'.format(\n",
    "                         data[\"experiments\"][key][\"model\"],\n",
    "                        data[\"locations\"][\"MelbCity\"][\"ParkingIDMetric\"],\n",
    "                        data[\"medianSource\"],\n",
    "                        data[\"experiments\"][key][\"source\"],\n",
    "                        data[\"experiments\"][key][\"target\"],\n",
    "                        (numFormat+\" / \"+numFormat+\" / \"+numFormat).format(result[0][\"t1\"][\"mae_src\"],result[1][\"t3\"][\"mae_src\"],result[2][\"t6\"][\"mae_src\"]),\n",
    "                        (numFormat+\" / \"+numFormat+\" / \"+numFormat).format(result[0][\"t1\"][\"rmse_src\"],result[1][\"t3\"][\"rmse_src\"],result[2][\"t6\"][\"rmse_src\"]),\n",
    "                        (numFormat+\" / \"+numFormat+\" / \"+numFormat).format(result[0][\"t1\"][\"mae_tar\"],result[1][\"t3\"][\"mae_tar\"],result[2][\"t6\"][\"mae_tar\"]),\n",
    "                        (numFormat+\" / \"+numFormat+\" / \"+numFormat).format(result[0][\"t1\"][\"rmse_tar\"],result[1][\"t3\"][\"rmse_tar\"],result[2][\"t6\"][\"rmse_tar\"]),key\n",
    "                    )\n",
    "                    html2 += line\n",
    "        html += '</table>'\n",
    "        html2 += '</table>'\n",
    "        display(HTML(html))\n",
    "        display(HTML(html2))\n",
    "        \n",
    "def showEXP2Result(filePath):\n",
    "    with open(filePath) as json_file:\n",
    "        data = json.load(json_file)\n",
    "        mlebhtml = '<h3>Preformance comparison of models on MelbCity Dataset('+filePath+') </h3><table><tr><th>Model</th><th>Train Location</th><th>Test Location</th><th>MAE (5/15/30 mins)</th><th>RMSE (5/15/30 mins)</th><th>EID</th></tr>'\n",
    "        mpshtml = '<h3>Preformance comparison of models on Mornington Dataset('+filePath+') </h3><table><tr><th>Model</th><th>Train Location</th><th>Test Location</th><th>MAE (5/15/30 mins)</th><th>RMSE (5/15/30 mins)</th><th>EID</th></tr>'\n",
    "\n",
    "        for location in [\"MelbCity\",\"Mornington\"]:\n",
    "            for key, result in data[\"results\"].items():\n",
    "                if key in data[\"experiments\"] :\n",
    "                    #print(data[\"experiments\"][key])\n",
    "                            \n",
    "                    trainWithParkingData = True\n",
    "                    if \"trainWithParkingData\" in data[\"experiments\"][key]:\n",
    "                        trainWithParkingData = data[\"experiments\"][key][\"trainWithParkingData\"]\n",
    "                    \n",
    "                    #print(data[\"experiments\"][key])\n",
    "                    testLocation = None\n",
    "                    if  \"testLocation\" in data[\"experiments\"][key]:\n",
    "                        testLocation = data[\"experiments\"][key][\"testLocation\"]\n",
    "                    elif data[\"experiments\"][key][\"model\"] != \"ADDA\":\n",
    "                        testLocation = data[\"experiments\"][key][\"location\"]\n",
    "                    \n",
    "                    if data[\"experiments\"][key][\"model\"] != \"ADDA\" and testLocation == location:\n",
    "                        line = '<tr><td>{}</td><td>{}</td><td>{}</td><td>{}</td><td>{}</td><td>{}</td></tr>'.format(\n",
    "                            str(\"\" if trainWithParkingData else \"[No parking data]  \") + data[\"experiments\"][key][\"model\"],\n",
    "                            #data[\"locations\"][\"MelbCity\"][\"ParkingIDMetric\"],\n",
    "                            #data[\"medianSource\"],\n",
    "                            data[\"experiments\"][key][\"location\"],\n",
    "                            testLocation,\n",
    "                            (numFormat+\" / \"+numFormat+\" / \"+numFormat).format(result[0][\"t1\"][\"mae\"],result[1][\"t3\"][\"mae\"],result[2][\"t6\"][\"mae\"]),\n",
    "                            (numFormat+\" / \"+numFormat+\" / \"+numFormat).format(result[0][\"t1\"][\"rmse\"],result[1][\"t3\"][\"rmse\"],result[2][\"t6\"][\"rmse\"]),\n",
    "                            #(numFormat+\" / \"+numFormat+\" / \"+numFormat).format(result[0][\"t1\"][\"r2\"],result[1][\"t3\"][\"r2\"],result[2][\"t6\"][\"r2\"]),\n",
    "                            key\n",
    "                        )\n",
    "                        #print( \"{:10.6f} / {:10.6f} / {:10.6f}\".format(result[0][\"t1\"][\"mae\"],result[1][\"t3\"][\"mae\"],result[2][\"t6\"][\"mae\"]))\n",
    "                        \n",
    "                        if testLocation == \"MelbCity\":\n",
    "                            mlebhtml += line\n",
    "                        else:\n",
    "                            mpshtml+= line\n",
    "                        \n",
    "                    elif  data[\"experiments\"][key][\"model\"] == \"ADDA\" and data[\"experiments\"][key][\"target\"] == location and data[\"experiments\"][key][\"source\"] == \"MelbCity\":\n",
    "                        #print(data[\"experiments\"][key][\"target\"] )\n",
    "                        line = '<tr><td>{}</td><td>{}</td><td>{}</td><td>{}</td><td>{}</td><td>{}</td></tr>'.format(\n",
    "                             str(\"\" if trainWithParkingData else \"[No parking data]  \") + data[\"experiments\"][key][\"model\"]+\"(\"+data[\"experiments\"][key][\"parameters\"][\"encoder\"]+\")\",\n",
    "                            #data[\"locations\"][\"MelbCity\"][\"ParkingIDMetric\"],\n",
    "                            #data[\"medianSource\"],\n",
    "                            data[\"experiments\"][key][\"source\"],\n",
    "                            data[\"experiments\"][key][\"target\"],\n",
    "                            #(numFormat+\" / \"+numFormat+\" / \"+numFormat).format(result[0][\"t1\"][\"mae_src\"],result[1][\"t3\"][\"mae_src\"],result[2][\"t6\"][\"mae_src\"]),\n",
    "                            #(numFormat+\" / \"+numFormat+\" / \"+numFormat).format(result[0][\"t1\"][\"rmse_src\"],result[1][\"t3\"][\"rmse_src\"],result[2][\"t6\"][\"rmse_src\"]),\n",
    "                            (numFormat+\" / \"+numFormat+\" / \"+numFormat).format(result[0][\"t1\"][\"mae_tar\"],result[1][\"t3\"][\"mae_tar\"],result[2][\"t6\"][\"mae_tar\"]),\n",
    "                            (numFormat+\" / \"+numFormat+\" / \"+numFormat).format(result[0][\"t1\"][\"rmse_tar\"],result[1][\"t3\"][\"rmse_tar\"],result[2][\"t6\"][\"rmse_tar\"]),\n",
    "                            key\n",
    "                        )\n",
    "                        mpshtml += line\n",
    "                    elif data[\"experiments\"][key][\"model\"] == \"ADDA\" and data[\"experiments\"][key][\"target\"] == location and data[\"experiments\"][key][\"source\"] == \"Mornington\":\n",
    "                        line = '<tr><td>{}</td><td>{}</td><td>{}</td><td>{}</td><td>{}</td><td>{}</td></tr>'.format(\n",
    "                            str(\"\" if trainWithParkingData else \"[No parking data]  \") + data[\"experiments\"][key][\"model\"]+\"(\"+data[\"experiments\"][key][\"parameters\"][\"encoder\"]+\")\",\n",
    "                            #data[\"locations\"][\"MelbCity\"][\"ParkingIDMetric\"],\n",
    "                            #data[\"medianSource\"],\n",
    "                            data[\"experiments\"][key][\"source\"],\n",
    "                            data[\"experiments\"][key][\"target\"],\n",
    "                            (numFormat+\" / \"+numFormat+\" / \"+numFormat).format(result[0][\"t1\"][\"mae_src\"],result[1][\"t3\"][\"mae_src\"],result[2][\"t6\"][\"mae_src\"]),\n",
    "                            (numFormat+\" / \"+numFormat+\" / \"+numFormat).format(result[0][\"t1\"][\"rmse_src\"],result[1][\"t3\"][\"rmse_src\"],result[2][\"t6\"][\"rmse_src\"]),\n",
    "                            #(numFormat+\" / \"+numFormat+\" / \"+numFormat).format(result[0][\"t1\"][\"mae_tar\"],result[1][\"t3\"][\"mae_tar\"],result[2][\"t6\"][\"mae_tar\"]),\n",
    "                            #(numFormat+\" / \"+numFormat+\" / \"+numFormat).format(result[0][\"t1\"][\"rmse_tar\"],result[1][\"t3\"][\"rmse_tar\"],result[2][\"t6\"][\"rmse_tar\"]),\n",
    "                            key\n",
    "                        )\n",
    "                        \n",
    "        mlebhtml += '</table>'\n",
    "        mpshtml += '</table>'\n",
    "        \n",
    "        #html2 += '</table>'\n",
    "        display(HTML(mlebhtml))\n",
    "        display(HTML(mpshtml))"
   ]
  },
  {
   "cell_type": "markdown",
   "metadata": {},
   "source": [
    "## Experiments results of 2020/7/7"
   ]
  },
  {
   "cell_type": "code",
   "execution_count": 16,
   "metadata": {
    "ExecuteTime": {
     "end_time": "2020-07-07T05:02:41.711637Z",
     "start_time": "2020-07-07T05:02:41.696277Z"
    },
    "scrolled": false
   },
   "outputs": [
    {
     "data": {
      "text/html": [
       "<h3>Preformance comparison of models on MelbCity Dataset(./eptest/test2/exp.json) </h3><table><tr><th>Model</th><th>Train Location</th><th>Test Location</th><th>MAE (5/15/30 mins)</th><th>RMSE (5/15/30 mins)</th><th>EID</th></tr><tr><td>HA</td><td>MelbCity</td><td>MelbCity</td><td>    0.0951 /     0.1221 /     0.1507</td><td>    0.1568 /     0.1921 /     0.2270</td><td>c20b80f6-b7bc-11ea-9cf8-4d14642ae817</td></tr><tr><td>convLSTM</td><td>MelbCity</td><td>MelbCity</td><td>    0.0698 /     0.1077 /     0.1400</td><td>    0.1292 /     0.1763 /     0.2071</td><td>2b39d340-b946-11ea-b691-0242ac110003</td></tr><tr><td>LSTM</td><td>MelbCity</td><td>MelbCity</td><td>    0.0654 /     0.1100 /     0.1336</td><td>    0.1276 /     0.1776 /     0.2028</td><td>e4392dc4-b954-11ea-bbc2-0242ac110003</td></tr></table>"
      ],
      "text/plain": [
       "<IPython.core.display.HTML object>"
      ]
     },
     "metadata": {},
     "output_type": "display_data"
    },
    {
     "data": {
      "text/html": [
       "<h3>Preformance comparison of models on Mornington Dataset(./eptest/test2/exp.json) </h3><table><tr><th>Model</th><th>Train Location</th><th>Test Location</th><th>MAE (5/15/30 mins)</th><th>RMSE (5/15/30 mins)</th><th>EID</th></tr><tr><td>HA</td><td>Mornington</td><td>Mornington</td><td>    0.0600 /     0.0804 /     0.1036</td><td>    0.1219 /     0.1543 /     0.1872</td><td>c20b80f6-b7bc-11ea-9cf8-4d14642ae816</td></tr><tr><td>ADDA(MLP)</td><td>MelbCity</td><td>Mornington</td><td>    0.0845 /     0.1151 /     0.1774</td><td>    0.1187 /     0.1616 /     0.2434</td><td>f0cd689a-b92a-11ea-a733-8307e46c3f58</td></tr><tr><td>convLSTM</td><td>MelbCity</td><td>Mornington</td><td>    0.0607 /     0.1091 /     0.1385</td><td>    0.1222 /     0.1680 /     0.2003</td><td>2b39d340-b946-11ea-b691-0242ac110012</td></tr><tr><td>LSTM</td><td>MelbCity</td><td>Mornington</td><td>    0.0595 /     0.0996 /     0.1284</td><td>    0.1206 /     0.1681 /     0.2030</td><td>e4392dc4-b954-11ea-bbc2-0242ac110002</td></tr><tr><td>LSTM</td><td>Mornington</td><td>Mornington</td><td>    0.0390 /     0.0663 /     0.0965</td><td>    0.0888 /     0.1339 /     0.1692</td><td>aac95c3e-b955-11ea-8e65-0242ac110003</td></tr><tr><td>convLSTM</td><td>Mornington</td><td>Mornington</td><td>    0.0374 /     0.0677 /     0.1005</td><td>    0.0894 /     0.1402 /     0.1714</td><td>aacdaf0a-b955-11ea-8e65-0242ac110003</td></tr><tr><td>[No parking data]  ADDA(MLP)</td><td>MelbCity</td><td>Mornington</td><td>    0.3294 /     0.3093 /     0.3329</td><td>    0.3977 /     0.3764 /     0.3918</td><td>ef97c8ec-bb66-11ea-b2f8-0242ac110003</td></tr><tr><td>[No parking data]  LSTM</td><td>Mornington</td><td>Mornington</td><td>    0.1639 /     0.1532 /     0.1708</td><td>    0.2321 /     0.2219 /     0.2298</td><td>d73b4400-bb79-11ea-8ba9-0242ac110002</td></tr><tr><td>[No parking data]  convLSTM</td><td>Mornington</td><td>Mornington</td><td>    0.1862 /     0.1946 /     0.1922</td><td>    0.2451 /     0.2601 /     0.2580</td><td>d742a6b4-bb79-11ea-8ba9-0242ac110002</td></tr><tr><td>[No parking data]  LSTM</td><td>MelbCity</td><td>Mornington</td><td>    0.1953 /     0.1973 /     0.1852</td><td>    0.2618 /     0.2629 /     0.2454</td><td>d73b4400-bb79-11ea-8ba9-0242ac110022</td></tr><tr><td>[No parking data]  convLSTM</td><td>MelbCity</td><td>Mornington</td><td>    0.2122 /     0.1953 /     0.2164</td><td>    0.2701 /     0.2543 /     0.2651</td><td>d742a6b4-bb79-11ea-8ba9-0242ac110022</td></tr></table>"
      ],
      "text/plain": [
       "<IPython.core.display.HTML object>"
      ]
     },
     "metadata": {},
     "output_type": "display_data"
    }
   ],
   "source": [
    "showEXP2Result(\"./eptest/test2/exp.json\")"
   ]
  },
  {
   "cell_type": "code",
   "execution_count": null,
   "metadata": {},
   "outputs": [],
   "source": []
  },
  {
   "cell_type": "code",
   "execution_count": null,
   "metadata": {},
   "outputs": [],
   "source": []
  }
 ],
 "metadata": {
  "hide_input": false,
  "kernelspec": {
   "display_name": "Python 3",
   "language": "python",
   "name": "python3"
  },
  "language_info": {
   "codemirror_mode": {
    "name": "ipython",
    "version": 3
   },
   "file_extension": ".py",
   "mimetype": "text/x-python",
   "name": "python",
   "nbconvert_exporter": "python",
   "pygments_lexer": "ipython3",
   "version": "3.7.6"
  },
  "toc": {
   "base_numbering": 1,
   "nav_menu": {},
   "number_sections": true,
   "sideBar": true,
   "skip_h1_title": false,
   "title_cell": "Table of Contents",
   "title_sidebar": "Contents",
   "toc_cell": false,
   "toc_position": {},
   "toc_section_display": true,
   "toc_window_display": false
  },
  "varInspector": {
   "cols": {
    "lenName": 16,
    "lenType": 16,
    "lenVar": 40
   },
   "kernels_config": {
    "python": {
     "delete_cmd_postfix": "",
     "delete_cmd_prefix": "del ",
     "library": "var_list.py",
     "varRefreshCmd": "print(var_dic_list())"
    },
    "r": {
     "delete_cmd_postfix": ") ",
     "delete_cmd_prefix": "rm(",
     "library": "var_list.r",
     "varRefreshCmd": "cat(var_dic_list()) "
    }
   },
   "types_to_exclude": [
    "module",
    "function",
    "builtin_function_or_method",
    "instance",
    "_Feature"
   ],
   "window_display": false
  }
 },
 "nbformat": 4,
 "nbformat_minor": 4
}
