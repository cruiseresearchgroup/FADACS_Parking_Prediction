{
 "cells": [
  {
   "cell_type": "code",
   "execution_count": 10,
   "metadata": {
    "ExecuteTime": {
     "end_time": "2020-07-01T08:55:01.553299Z",
     "start_time": "2020-07-01T08:55:01.490017Z"
    }
   },
   "outputs": [
    {
     "data": {
      "text/html": [
       "<style>.container { width:100% !important; }</style>"
      ],
      "text/plain": [
       "<IPython.core.display.HTML object>"
      ]
     },
     "metadata": {},
     "output_type": "display_data"
    }
   ],
   "source": [
    "from IPython.core.display import display, HTML\n",
    "display(HTML('<style>.container { width:100% !important; }</style>'))"
   ]
  },
  {
   "cell_type": "code",
   "execution_count": 18,
   "metadata": {
    "ExecuteTime": {
     "end_time": "2020-07-01T09:01:04.140217Z",
     "start_time": "2020-07-01T09:01:04.112978Z"
    }
   },
   "outputs": [],
   "source": [
    "import json\n",
    "from IPython.display import HTML, display\n",
    "\n",
    "numFormat = \"{:10.4f}\"\n",
    "\n",
    "def showEXPResult(filePath):\n",
    "    with open(filePath) as json_file:\n",
    "        data = json.load(json_file)\n",
    "        html = '<h3>Baseline Models ('+filePath+') </h3><table><tr><th>Model</th><th>Matching Metric</th><th>Matching Source</th><th>Location</th><th>MAE (5/15/30 mins)</th><th>RMSE (5/15/30 mins)</th><th>R2 (5/15/30 mins)</th><th>EID</th></tr>'\n",
    "        html2 = '<h3>Transfer Learning Models ('+filePath+')</h3><table><tr><th>Model</th><th>Matching Metric</th><th>Matching Source</th><th>Srouce</th><th>Target</th><th>Source MAE (5/15/30 mins)</th><th>Srouce RMSE (5/15/30 mins)</th><th>Target MAE (5/15/30 mins)</th><th>Target RMSE (5/15/30 mins)</th><th>EID</th></tr>'\n",
    "\n",
    "        for key, result in data[\"results\"].items():\n",
    "            if key in data[\"experiments\"]:\n",
    "                if data[\"experiments\"][key][\"model\"] != \"ADDA\":\n",
    "                    line = '<tr><td>{}</td><td>{}</td><td>{}</td><td>{}</td><td>{}</td><td>{}</td><td>{}</td><td>{}</td></tr>'.format(\n",
    "                         data[\"experiments\"][key][\"model\"],\n",
    "                        data[\"locations\"][\"MelbCity\"][\"ParkingIDMetric\"],\n",
    "                        data[\"medianSource\"],\n",
    "                        data[\"experiments\"][key][\"location\"],\n",
    "                        (numFormat+\" / \"+numFormat+\" / \"+numFormat).format(result[0][\"t1\"][\"mae\"],result[1][\"t3\"][\"mae\"],result[2][\"t6\"][\"mae\"]),\n",
    "                        (numFormat+\" / \"+numFormat+\" / \"+numFormat).format(result[0][\"t1\"][\"rmse\"],result[1][\"t3\"][\"rmse\"],result[2][\"t6\"][\"rmse\"]),\n",
    "                        (numFormat+\" / \"+numFormat+\" / \"+numFormat).format(result[0][\"t1\"][\"r2\"],result[1][\"t3\"][\"r2\"],result[2][\"t6\"][\"r2\"]),key\n",
    "                    )\n",
    "                    #print( \"{:10.6f} / {:10.6f} / {:10.6f}\".format(result[0][\"t1\"][\"mae\"],result[1][\"t3\"][\"mae\"],result[2][\"t6\"][\"mae\"]))\n",
    "                    html += line\n",
    "                else:\n",
    "                    line = '<tr><td>{}</td><td>{}</td><td>{}</td><td>{}</td><td>{}</td><td>{}</td><td>{}</td><td>{}</td><td>{}</td><td>{}</td></tr>'.format(\n",
    "                         data[\"experiments\"][key][\"model\"],\n",
    "                        data[\"locations\"][\"MelbCity\"][\"ParkingIDMetric\"],\n",
    "                        data[\"medianSource\"],\n",
    "                        data[\"experiments\"][key][\"source\"],\n",
    "                        data[\"experiments\"][key][\"target\"],\n",
    "                        (numFormat+\" / \"+numFormat+\" / \"+numFormat).format(result[0][\"t1\"][\"mae_src\"],result[1][\"t3\"][\"mae_src\"],result[2][\"t6\"][\"mae_src\"]),\n",
    "                        (numFormat+\" / \"+numFormat+\" / \"+numFormat).format(result[0][\"t1\"][\"rmse_src\"],result[1][\"t3\"][\"rmse_src\"],result[2][\"t6\"][\"rmse_src\"]),\n",
    "                        (numFormat+\" / \"+numFormat+\" / \"+numFormat).format(result[0][\"t1\"][\"mae_tar\"],result[1][\"t3\"][\"mae_tar\"],result[2][\"t6\"][\"mae_tar\"]),\n",
    "                        (numFormat+\" / \"+numFormat+\" / \"+numFormat).format(result[0][\"t1\"][\"rmse_tar\"],result[1][\"t3\"][\"rmse_tar\"],result[2][\"t6\"][\"rmse_tar\"]),key\n",
    "                    )\n",
    "                    html2 += line\n",
    "        html += '</table>'\n",
    "        html2 += '</table>'\n",
    "        display(HTML(html))\n",
    "        display(HTML(html2))\n",
    "        \n",
    "def showEXP2Result(filePath):\n",
    "    with open(filePath) as json_file:\n",
    "        data = json.load(json_file)\n",
    "        mlebhtml = '<h3>Preformance comparison of models on MelbCity Dataset('+filePath+') </h3><table><tr><th>Model</th><th>Matching Metric</th><th>Matching Source</th><th>Location</th><th>MAE (5/15/30 mins)</th><th>RMSE (5/15/30 mins)</th><th>EID</th></tr>'\n",
    "        mpshtml = '<h3>Preformance comparison of models on Mornington Dataset('+filePath+') </h3><table><tr><th>Model</th><th>Matching Metric</th><th>Matching Source</th><th>Location</th><th>MAE (5/15/30 mins)</th><th>RMSE (5/15/30 mins)</th><th>EID</th></tr>'\n",
    "\n",
    "        for location in [\"MelbCity\",\"Mornington\"]:\n",
    "            for key, result in data[\"results\"].items():\n",
    "                if key in data[\"experiments\"] :\n",
    "                    #print(data[\"experiments\"][key])\n",
    "                            \n",
    "                    trainWithParkingData = True\n",
    "                    if \"trainWithParkingData\" in data[\"experiments\"][key]:\n",
    "                        trainWithParkingData = data[\"experiments\"][key][\"trainWithParkingData\"]\n",
    "                    \n",
    "                    if data[\"experiments\"][key][\"model\"] != \"ADDA\" and data[\"experiments\"][key][\"location\"] == location:\n",
    "                        line = '<tr><td>{}</td><td>{}</td><td>{}</td><td>{}</td><td>{}</td><td>{}</td><td>{}</td></tr>'.format(\n",
    "                            data[\"experiments\"][key][\"model\"]+str(\"\" if trainWithParkingData else \"-NP\"),\n",
    "                            data[\"locations\"][\"MelbCity\"][\"ParkingIDMetric\"],\n",
    "                            data[\"medianSource\"],\n",
    "                            data[\"experiments\"][key][\"location\"],\n",
    "                            (numFormat+\" / \"+numFormat+\" / \"+numFormat).format(result[0][\"t1\"][\"mae\"],result[1][\"t3\"][\"mae\"],result[2][\"t6\"][\"mae\"]),\n",
    "                            (numFormat+\" / \"+numFormat+\" / \"+numFormat).format(result[0][\"t1\"][\"rmse\"],result[1][\"t3\"][\"rmse\"],result[2][\"t6\"][\"rmse\"]),\n",
    "                            #(numFormat+\" / \"+numFormat+\" / \"+numFormat).format(result[0][\"t1\"][\"r2\"],result[1][\"t3\"][\"r2\"],result[2][\"t6\"][\"r2\"]),\n",
    "                            key\n",
    "                        )\n",
    "                        #print( \"{:10.6f} / {:10.6f} / {:10.6f}\".format(result[0][\"t1\"][\"mae\"],result[1][\"t3\"][\"mae\"],result[2][\"t6\"][\"mae\"]))\n",
    "                        \n",
    "                        if location == \"MelbCity\":\n",
    "                            mlebhtml += line\n",
    "                        else:\n",
    "                            mpshtml+= line\n",
    "                        \n",
    "                    elif  data[\"experiments\"][key][\"model\"] == \"ADDA\" and data[\"experiments\"][key][\"target\"] == location and data[\"experiments\"][key][\"source\"] == \"MelbCity\":\n",
    "                        #print(data[\"experiments\"][key][\"target\"] )\n",
    "                        line = '<tr><td>{}</td><td>{}</td><td>{}</td><td>{}</td><td>{}</td><td>{}</td><td>{}</td></tr>'.format(\n",
    "                             data[\"experiments\"][key][\"model\"]+str(\"\" if trainWithParkingData else \"-NP\"),\n",
    "                            data[\"locations\"][\"MelbCity\"][\"ParkingIDMetric\"],\n",
    "                            data[\"medianSource\"],\n",
    "                            data[\"experiments\"][key][\"target\"],\n",
    "                            #(numFormat+\" / \"+numFormat+\" / \"+numFormat).format(result[0][\"t1\"][\"mae_src\"],result[1][\"t3\"][\"mae_src\"],result[2][\"t6\"][\"mae_src\"]),\n",
    "                            #(numFormat+\" / \"+numFormat+\" / \"+numFormat).format(result[0][\"t1\"][\"rmse_src\"],result[1][\"t3\"][\"rmse_src\"],result[2][\"t6\"][\"rmse_src\"]),\n",
    "                            (numFormat+\" / \"+numFormat+\" / \"+numFormat).format(result[0][\"t1\"][\"mae_tar\"],result[1][\"t3\"][\"mae_tar\"],result[2][\"t6\"][\"mae_tar\"]),\n",
    "                            (numFormat+\" / \"+numFormat+\" / \"+numFormat).format(result[0][\"t1\"][\"rmse_tar\"],result[1][\"t3\"][\"rmse_tar\"],result[2][\"t6\"][\"rmse_tar\"]),\n",
    "                            key\n",
    "                        )\n",
    "                        mpshtml += line\n",
    "                        line = '<tr><td>{}</td><td>{}</td><td>{}</td><td>{}</td><td>{}</td><td>{}</td><td>{}</td></tr>'.format(\n",
    "                             data[\"experiments\"][key][\"model\"]+str(\"\" if trainWithParkingData else \"-NP\"),\n",
    "                            data[\"locations\"][\"MelbCity\"][\"ParkingIDMetric\"],\n",
    "                            data[\"medianSource\"],\n",
    "                            data[\"experiments\"][key][\"source\"],\n",
    "                            (numFormat+\" / \"+numFormat+\" / \"+numFormat).format(result[0][\"t1\"][\"mae_src\"],result[1][\"t3\"][\"mae_src\"],result[2][\"t6\"][\"mae_src\"]),\n",
    "                            (numFormat+\" / \"+numFormat+\" / \"+numFormat).format(result[0][\"t1\"][\"rmse_src\"],result[1][\"t3\"][\"rmse_src\"],result[2][\"t6\"][\"rmse_src\"]),\n",
    "                            #(numFormat+\" / \"+numFormat+\" / \"+numFormat).format(result[0][\"t1\"][\"mae_tar\"],result[1][\"t3\"][\"mae_tar\"],result[2][\"t6\"][\"mae_tar\"]),\n",
    "                            #(numFormat+\" / \"+numFormat+\" / \"+numFormat).format(result[0][\"t1\"][\"rmse_tar\"],result[1][\"t3\"][\"rmse_tar\"],result[2][\"t6\"][\"rmse_tar\"]),\n",
    "                            key\n",
    "                        )\n",
    "                        mlebhtml += line\n",
    "                        \n",
    "        mlebhtml += '</table>'\n",
    "        mpshtml += '</table>'\n",
    "        \n",
    "        #html2 += '</table>'\n",
    "        display(HTML(mlebhtml))\n",
    "        display(HTML(mpshtml))"
   ]
  },
  {
   "cell_type": "markdown",
   "metadata": {},
   "source": [
    "## Experiments results of 2020/6/18"
   ]
  },
  {
   "cell_type": "code",
   "execution_count": 20,
   "metadata": {
    "ExecuteTime": {
     "end_time": "2020-07-01T09:08:48.553660Z",
     "start_time": "2020-07-01T09:08:48.539327Z"
    }
   },
   "outputs": [
    {
     "data": {
      "text/html": [
       "<h3>Preformance comparison of models on MelbCity Dataset(./eptest/test/exp.json) </h3><table><tr><th>Model</th><th>Matching Metric</th><th>Matching Source</th><th>Location</th><th>MAE (5/15/30 mins)</th><th>RMSE (5/15/30 mins)</th><th>EID</th></tr><tr><td>convLSTM</td><td>median</td><td>MelbCity</td><td>MelbCity</td><td>    0.0597 /     0.0834 /     0.1125</td><td>    0.1131 /     0.1455 /     0.1841</td><td>2b39d340-b946-11ea-b691-0242ac110003</td></tr><tr><td>LSTM</td><td>median</td><td>MelbCity</td><td>MelbCity</td><td>    0.2772 /     0.2862 /     0.2608</td><td>    0.3950 /     0.4147 /     0.3778</td><td>e4392dc4-b954-11ea-bbc2-0242ac110003</td></tr><tr><td>ARIMA</td><td>median</td><td>MelbCity</td><td>MelbCity</td><td>    0.0000 /     0.0000 /     0.0000</td><td>    0.0000 /     0.0000 /     0.0000</td><td>947286c2-bac7-11ea-b063-859789a47a4f</td></tr><tr><td>HA</td><td>median</td><td>MelbCity</td><td>MelbCity</td><td>    0.0700 /     0.0917 /     0.1165</td><td>    0.1285 /     0.1605 /     0.1946</td><td>c20b80f6-b7bc-11ea-9cf8-4d14642ae817</td></tr><tr><td>ADDA</td><td>median</td><td>MelbCity</td><td>MelbCity</td><td>    0.3160 /     0.3175 /     0.3173</td><td>    0.3569 /     0.3572 /     0.3605</td><td>7f5c7a1e-b92c-11ea-aabc-1b1a91e842ca</td></tr><tr><td>ADDA</td><td>median</td><td>MelbCity</td><td>MelbCity</td><td>    0.3304 /     0.3301 /     0.3284</td><td>    0.3707 /     0.3701 /     0.3689</td><td>f0cd689a-b92a-11ea-a733-8307e46c3f58</td></tr><tr><td>ADDA-NP</td><td>median</td><td>MelbCity</td><td>MelbCity</td><td>    0.3310 /     0.3307 /     0.3291</td><td>    0.3720 /     0.3714 /     0.3701</td><td>ef97c8ec-bb66-11ea-b2f8-0242ac110003</td></tr><tr><td>ADDA-NP</td><td>median</td><td>MelbCity</td><td>MelbCity</td><td>    0.3278 /     0.3297 /     0.3325</td><td>    0.3818 /     0.3819 /     0.3878</td><td>fd895ae2-bb66-11ea-80aa-bfd708c82432</td></tr></table>"
      ],
      "text/plain": [
       "<IPython.core.display.HTML object>"
      ]
     },
     "metadata": {},
     "output_type": "display_data"
    },
    {
     "data": {
      "text/html": [
       "<h3>Preformance comparison of models on Mornington Dataset(./eptest/test/exp.json) </h3><table><tr><th>Model</th><th>Matching Metric</th><th>Matching Source</th><th>Location</th><th>MAE (5/15/30 mins)</th><th>RMSE (5/15/30 mins)</th><th>EID</th></tr><tr><td>ADDA</td><td>median</td><td>MelbCity</td><td>Mornington</td><td>    0.3181 /     0.3202 /     0.3174</td><td>    0.3569 /     0.3572 /     0.3570</td><td>7f5c7a1e-b92c-11ea-aabc-1b1a91e842ca</td></tr><tr><td>ADDA</td><td>median</td><td>MelbCity</td><td>Mornington</td><td>    0.3302 /     0.3299 /     0.3282</td><td>    0.3704 /     0.3699 /     0.3686</td><td>f0cd689a-b92a-11ea-a733-8307e46c3f58</td></tr><tr><td>LSTM</td><td>median</td><td>MelbCity</td><td>Mornington</td><td>    0.0428 /     0.0816 /     0.1308</td><td>    0.0990 /     0.1530 /     0.1980</td><td>aac95c3e-b955-11ea-8e65-0242ac110003</td></tr><tr><td>convLSTM</td><td>median</td><td>MelbCity</td><td>Mornington</td><td>    0.0591 /     0.1038 /     0.1414</td><td>    0.1075 /     0.1543 /     0.2019</td><td>aacdaf0a-b955-11ea-8e65-0242ac110003</td></tr><tr><td>LSTM-NP</td><td>median</td><td>MelbCity</td><td>Mornington</td><td>    0.1563 /     0.1504 /     0.1670</td><td>    0.2222 /     0.2225 /     0.2329</td><td>30cec1a0-bb65-11ea-97a5-0242ac110003</td></tr><tr><td>ARIMA</td><td>median</td><td>MelbCity</td><td>Mornington</td><td>    0.0011 /     0.0011 /     0.0011</td><td>    0.0000 /     0.0000 /     0.0000</td><td>0d1830b6-bb1a-11ea-a68c-a141f972abb8</td></tr><tr><td>convLSTM-NP</td><td>median</td><td>MelbCity</td><td>Mornington</td><td>    0.2001 /     0.2045 /     0.1811</td><td>    0.2589 /     0.2675 /     0.2329</td><td>30d3b048-bb65-11ea-97a5-0242ac110003</td></tr><tr><td>ADDA-NP</td><td>median</td><td>MelbCity</td><td>Mornington</td><td>    0.3309 /     0.3305 /     0.3289</td><td>    0.3717 /     0.3711 /     0.3699</td><td>ef97c8ec-bb66-11ea-b2f8-0242ac110003</td></tr><tr><td>ADDA-NP</td><td>median</td><td>MelbCity</td><td>Mornington</td><td>    0.4135 /     0.4147 /     0.4189</td><td>    0.5416 /     0.5426 /     0.5444</td><td>fd895ae2-bb66-11ea-80aa-bfd708c82432</td></tr><tr><td>LSTM-NP</td><td>median</td><td>MelbCity</td><td>Mornington</td><td>    0.1615 /     0.1508 /     0.1767</td><td>    0.2379 /     0.2182 /     0.2551</td><td>d73b4400-bb79-11ea-8ba9-0242ac110002</td></tr><tr><td>convLSTM-NP</td><td>median</td><td>MelbCity</td><td>Mornington</td><td>    0.1871 /     0.1829 /     0.1889</td><td>    0.2429 /     0.2396 /     0.2432</td><td>d742a6b4-bb79-11ea-8ba9-0242ac110002</td></tr></table>"
      ],
      "text/plain": [
       "<IPython.core.display.HTML object>"
      ]
     },
     "metadata": {},
     "output_type": "display_data"
    }
   ],
   "source": [
    "showEXP2Result(\"./eptest/test/exp.json\")\n"
   ]
  },
  {
   "cell_type": "code",
   "execution_count": null,
   "metadata": {
    "ExecuteTime": {
     "start_time": "2020-06-26T15:02:50.610Z"
    }
   },
   "outputs": [
    {
     "data": {
      "text/html": [
       "<h3>Preformance comparison of models on MelbCity Dataset(./eptest/median-melb-mps1/exp.json) </h3><table><tr><th>Model</th><th>Matching Metric</th><th>Matching Source</th><th>Location</th><th>MAE (5/15/30 mins)</th><th>RMSE (5/15/30 mins)</th><th>EID</th></tr><tr><td>LSTM</td><td>median</td><td>MelbCity</td><td>MelbCity</td><td>    0.0805 /     0.1146 /     0.1436</td><td>    0.1364 /     0.1792 /     0.2106</td><td>dbd442a0-b61a-11ea-9708-0242ac110002</td></tr><tr><td>FNN</td><td>median</td><td>MelbCity</td><td>MelbCity</td><td>    0.0750 /     0.1131 /     0.1401</td><td>    0.1261 /     0.1659 /     0.1934</td><td>dbda8ad4-b61a-11ea-9708-0242ac110002</td></tr><tr><td>ADDA</td><td>median</td><td>MelbCity</td><td>MelbCity</td><td>    0.3399 /     0.3379 /     0.3375</td><td>    0.3478 /     0.3471 /     0.3477</td><td>dbdd627c-b61a-11ea-9708-0242ac110002</td></tr></table>"
      ],
      "text/plain": [
       "<IPython.core.display.HTML object>"
      ]
     },
     "metadata": {},
     "output_type": "display_data"
    },
    {
     "data": {
      "text/html": [
       "<h3>Preformance comparison of models on Mornington Dataset(./eptest/median-melb-mps1/exp.json) </h3><table><tr><th>Model</th><th>Matching Metric</th><th>Matching Source</th><th>Location</th><th>MAE (5/15/30 mins)</th><th>RMSE (5/15/30 mins)</th><th>EID</th></tr><tr><td>LSTM</td><td>median</td><td>MelbCity</td><td>Mornington</td><td>    0.0887 /     0.0761 /     0.1042</td><td>    0.2185 /     0.1760 /     0.2195</td><td>dbd9237e-b61a-11ea-9708-0242ac110002</td></tr><tr><td>FNN</td><td>median</td><td>MelbCity</td><td>Mornington</td><td>    0.0279 /     0.0280 /     0.0359</td><td>    0.0865 /     0.0913 /     0.1036</td><td>dbdbe244-b61a-11ea-9708-0242ac110002</td></tr><tr><td>ADDA</td><td>median</td><td>MelbCity</td><td>Mornington</td><td>    0.3416 /     0.3397 /     0.3393</td><td>    0.3495 /     0.3489 /     0.3493</td><td>dbdd627c-b61a-11ea-9708-0242ac110002</td></tr></table>"
      ],
      "text/plain": [
       "<IPython.core.display.HTML object>"
      ]
     },
     "metadata": {},
     "output_type": "display_data"
    },
    {
     "data": {
      "text/html": [
       "<h3>Preformance comparison of models on MelbCity Dataset(./eptest/median-melb-mps2/exp.json) </h3><table><tr><th>Model</th><th>Matching Metric</th><th>Matching Source</th><th>Location</th><th>MAE (5/15/30 mins)</th><th>RMSE (5/15/30 mins)</th><th>EID</th></tr><tr><td>ADDA</td><td>median</td><td>MelbCity</td><td>MelbCity</td><td>    0.2931 /     0.2939 /     0.2915</td><td>    0.3242 /     0.3255 /     0.3238</td><td>40255b7e-b623-11ea-8a65-0242ac110002</td></tr></table>"
      ],
      "text/plain": [
       "<IPython.core.display.HTML object>"
      ]
     },
     "metadata": {},
     "output_type": "display_data"
    },
    {
     "data": {
      "text/html": [
       "<h3>Preformance comparison of models on Mornington Dataset(./eptest/median-melb-mps2/exp.json) </h3><table><tr><th>Model</th><th>Matching Metric</th><th>Matching Source</th><th>Location</th><th>MAE (5/15/30 mins)</th><th>RMSE (5/15/30 mins)</th><th>EID</th></tr><tr><td>LSTM</td><td>median</td><td>MelbCity</td><td>Mornington</td><td>    0.2127 /     0.2970 /     0.2136</td><td>    0.2641 /     0.4213 /     0.3323</td><td>401c5100-b623-11ea-8a65-0242ac110002</td></tr><tr><td>FNN</td><td>median</td><td>MelbCity</td><td>Mornington</td><td>    0.0507 /     0.0654 /     0.0774</td><td>    0.1056 /     0.1275 /     0.1480</td><td>4021df08-b623-11ea-8a65-0242ac110002</td></tr><tr><td>ADDA</td><td>median</td><td>MelbCity</td><td>Mornington</td><td>    0.2946 /     0.2954 /     0.2930</td><td>    0.3255 /     0.3268 /     0.3251</td><td>40255b7e-b623-11ea-8a65-0242ac110002</td></tr></table>"
      ],
      "text/plain": [
       "<IPython.core.display.HTML object>"
      ]
     },
     "metadata": {},
     "output_type": "display_data"
    },
    {
     "data": {
      "text/html": [
       "<h3>Preformance comparison of models on MelbCity Dataset(./eptest/median-melb-mps3/exp.json) </h3><table><tr><th>Model</th><th>Matching Metric</th><th>Matching Source</th><th>Location</th><th>MAE (5/15/30 mins)</th><th>RMSE (5/15/30 mins)</th><th>EID</th></tr><tr><td>ADDA</td><td>median</td><td>MelbCity</td><td>MelbCity</td><td>    0.2798 /     0.2801 /     0.2819</td><td>    0.3200 /     0.3199 /     0.3213</td><td>36d78302-b624-11ea-bfc6-0242ac110002</td></tr></table>"
      ],
      "text/plain": [
       "<IPython.core.display.HTML object>"
      ]
     },
     "metadata": {},
     "output_type": "display_data"
    },
    {
     "data": {
      "text/html": [
       "<h3>Preformance comparison of models on Mornington Dataset(./eptest/median-melb-mps3/exp.json) </h3><table><tr><th>Model</th><th>Matching Metric</th><th>Matching Source</th><th>Location</th><th>MAE (5/15/30 mins)</th><th>RMSE (5/15/30 mins)</th><th>EID</th></tr><tr><td>LSTM</td><td>median</td><td>MelbCity</td><td>Mornington</td><td>    0.2199 /     0.2046 /     0.2663</td><td>    0.3182 /     0.2867 /     0.3612</td><td>36cfaa38-b624-11ea-bfc6-0242ac110002</td></tr><tr><td>FNN</td><td>median</td><td>MelbCity</td><td>Mornington</td><td>    0.0622 /     0.0700 /     0.0919</td><td>    0.1177 /     0.1283 /     0.1580</td><td>36d5e682-b624-11ea-bfc6-0242ac110002</td></tr><tr><td>ADDA</td><td>median</td><td>MelbCity</td><td>Mornington</td><td>    0.2807 /     0.2810 /     0.2827</td><td>    0.3206 /     0.3204 /     0.3218</td><td>36d78302-b624-11ea-bfc6-0242ac110002</td></tr></table>"
      ],
      "text/plain": [
       "<IPython.core.display.HTML object>"
      ]
     },
     "metadata": {},
     "output_type": "display_data"
    },
    {
     "data": {
      "text/html": [
       "<h3>Preformance comparison of models on MelbCity Dataset(./eptest/median-melb-mps4/exp.json) </h3><table><tr><th>Model</th><th>Matching Metric</th><th>Matching Source</th><th>Location</th><th>MAE (5/15/30 mins)</th><th>RMSE (5/15/30 mins)</th><th>EID</th></tr><tr><td>ADDA</td><td>median</td><td>MelbCity</td><td>MelbCity</td><td>    0.2746 /     0.2746 /     0.2757</td><td>    0.3163 /     0.3166 /     0.3179</td><td>d3544408-b62a-11ea-bbc7-0242ac110002</td></tr></table>"
      ],
      "text/plain": [
       "<IPython.core.display.HTML object>"
      ]
     },
     "metadata": {},
     "output_type": "display_data"
    },
    {
     "data": {
      "text/html": [
       "<h3>Preformance comparison of models on Mornington Dataset(./eptest/median-melb-mps4/exp.json) </h3><table><tr><th>Model</th><th>Matching Metric</th><th>Matching Source</th><th>Location</th><th>MAE (5/15/30 mins)</th><th>RMSE (5/15/30 mins)</th><th>EID</th></tr><tr><td>LSTM</td><td>median</td><td>MelbCity</td><td>Mornington</td><td>    0.2179 /     0.3332 /     0.3579</td><td>    0.2616 /     0.4545 /     0.4740</td><td>d3519848-b62a-11ea-bbc7-0242ac110002</td></tr><tr><td>FNN</td><td>median</td><td>MelbCity</td><td>Mornington</td><td>    0.0611 /     0.0780 /     0.0985</td><td>    0.1177 /     0.1356 /     0.1613</td><td>d352f9f4-b62a-11ea-bbc7-0242ac110002</td></tr><tr><td>ADDA</td><td>median</td><td>MelbCity</td><td>Mornington</td><td>    0.2752 /     0.2752 /     0.2763</td><td>    0.3166 /     0.3169 /     0.3182</td><td>d3544408-b62a-11ea-bbc7-0242ac110002</td></tr></table>"
      ],
      "text/plain": [
       "<IPython.core.display.HTML object>"
      ]
     },
     "metadata": {},
     "output_type": "display_data"
    }
   ],
   "source": [
    "showEXP2Result(\"./eptest/median-melb-mps1/exp.json\")\n",
    "showEXP2Result(\"./eptest/median-melb-mps2/exp.json\")\n",
    "showEXP2Result(\"./eptest/median-melb-mps3/exp.json\")\n",
    "showEXP2Result(\"./eptest/median-melb-mps4/exp.json\")\n",
    "showEXP2Result(\"./eptest/median-melb-mps5/exp.json\")\n",
    "\n",
    "# for location in [\"MelbCity\",\"Mornington\"]:\n",
    "#         print(location)"
   ]
  },
  {
   "cell_type": "code",
   "execution_count": 3,
   "metadata": {
    "ExecuteTime": {
     "end_time": "2020-06-26T15:01:31.131382Z",
     "start_time": "2020-06-26T15:01:27.924319Z"
    }
   },
   "outputs": [
    {
     "data": {
      "text/html": [
       "<h3>Preformance comparison of models on MelbCity Dataset(./eptest/median-melb-50/exp.json) </h3><table><tr><th>Model</th><th>Matching Metric</th><th>Matching Source</th><th>Location</th><th>MAE (5/15/30 mins)</th><th>RMSE (5/15/30 mins)</th><th>EID</th></tr><tr><td>LSTM</td><td>median</td><td>MelbCity</td><td>MelbCity</td><td>    0.0605 /     0.1027 /     0.1369</td><td>    0.1341 /     0.1842 /     0.2108</td><td>78b211c0-88cf-11ea-a64e-0242ac110002</td></tr><tr><td>LightGBM</td><td>median</td><td>MelbCity</td><td>MelbCity</td><td>    0.0707 /     0.1070 /     0.1300</td><td>    0.1196 /     0.1568 /     0.1791</td><td>8f3823f6-b135-11ea-bd14-258eb2a3aad9</td></tr><tr><td>FNN</td><td>median</td><td>MelbCity</td><td>MelbCity</td><td>    0.0747 /     0.1135 /     0.1401</td><td>    0.1263 /     0.1665 /     0.1934</td><td>a319c976-b133-11ea-bed3-0242ac110002</td></tr><tr><td>HA</td><td>median</td><td>MelbCity</td><td>MelbCity</td><td>    0.0967 /     0.1233 /     0.1512</td><td>    0.1583 /     0.1932 /     0.2272</td><td>9acb1988-b7bd-11ea-9d99-6161b25c8e9d</td></tr><tr><td>ADDA</td><td>median</td><td>MelbCity</td><td>MelbCity</td><td>    0.0959 /     0.0959 /     0.0959</td><td>    0.3097 /     0.3097 /     0.3097</td><td>57ed7f2c-8b83-11ea-9cfa-0242ac110003</td></tr><tr><td>ADDA</td><td>median</td><td>MelbCity</td><td>MelbCity</td><td>    0.0961 /     0.0961 /     0.0961</td><td>    0.3100 /     0.3100 /     0.3100</td><td>edbca5b2-8e05-11ea-aa9b-0242ac110002</td></tr><tr><td>ADDA</td><td>median</td><td>MelbCity</td><td>MelbCity</td><td>    0.0953 /     0.0953 /     0.0953</td><td>    0.3086 /     0.3086 /     0.3086</td><td>edbdcd5c-8e04-11ea-aa9b-0242ac110002</td></tr><tr><td>ADDA</td><td>median</td><td>MelbCity</td><td>MelbCity</td><td>    0.0966 /     0.0966 /     0.0966</td><td>    0.3108 /     0.3108 /     0.3108</td><td>edbdcd5c-8e03-11ea-aa9b-0242ac110002</td></tr><tr><td>ADDA</td><td>median</td><td>MelbCity</td><td>MelbCity</td><td>    0.0955 /     0.0955 /     0.0955</td><td>    0.3091 /     0.3091 /     0.3091</td><td>edbdcd5c-8e02-11ea-aa9b-0242ac110002</td></tr><tr><td>ADDA</td><td>median</td><td>MelbCity</td><td>MelbCity</td><td>    0.0960 /     0.0962 /     0.0959</td><td>    0.3099 /     0.3101 /     0.3096</td><td>ca927310-b54b-11ea-8e53-0242ac110002</td></tr><tr><td>ADDA</td><td>median</td><td>MelbCity</td><td>MelbCity</td><td>    0.1026 /     0.1023 /     0.1025</td><td>    0.3203 /     0.3199 /     0.3202</td><td>32ae29fc-b552-11ea-add6-0242ac110003</td></tr><tr><td>ADDA</td><td>median</td><td>MelbCity</td><td>MelbCity</td><td>    0.0911 /     0.0911 /     0.0909</td><td>    0.3017 /     0.3018 /     0.3014</td><td>32b009ac-b552-11ea-add6-0242ac110003</td></tr><tr><td>ADDA</td><td>median</td><td>MelbCity</td><td>MelbCity</td><td>    0.0966 /     0.0968 /     0.0968</td><td>    0.3109 /     0.3111 /     0.3111</td><td>3b9cfd1e-b5f6-11ea-a595-0242ac110003</td></tr><tr><td>ADDA</td><td>median</td><td>MelbCity</td><td>MelbCity</td><td>    0.2558 /     0.2560 /     0.2557</td><td>    0.3005 /     0.3007 /     0.3005</td><td>32ac52e4-b552-11ea-add6-0242ac110003</td></tr></table>"
      ],
      "text/plain": [
       "<IPython.core.display.HTML object>"
      ]
     },
     "metadata": {},
     "output_type": "display_data"
    },
    {
     "data": {
      "text/html": [
       "<h3>Preformance comparison of models on Mornington Dataset(./eptest/median-melb-50/exp.json) </h3><table><tr><th>Model</th><th>Matching Metric</th><th>Matching Source</th><th>Location</th><th>MAE (5/15/30 mins)</th><th>RMSE (5/15/30 mins)</th><th>EID</th></tr><tr><td>LSTM</td><td>median</td><td>MelbCity</td><td>Mornington</td><td>    0.0391 /     0.0769 /     0.1107</td><td>    0.0993 /     0.1553 /     0.1950</td><td>78b5d85a-88cf-11ea-a64e-0242ac110002</td></tr><tr><td>ADDA</td><td>median</td><td>MelbCity</td><td>Mornington</td><td>    0.0966 /     0.0966 /     0.0966</td><td>    0.3108 /     0.3108 /     0.3108</td><td>57ed7f2c-8b83-11ea-9cfa-0242ac110003</td></tr><tr><td>ADDA</td><td>median</td><td>MelbCity</td><td>Mornington</td><td>    0.0960 /     0.0960 /     0.0960</td><td>    0.3099 /     0.3099 /     0.3099</td><td>edbca5b2-8e05-11ea-aa9b-0242ac110002</td></tr><tr><td>ADDA</td><td>median</td><td>MelbCity</td><td>Mornington</td><td>    0.0913 /     0.0913 /     0.0913</td><td>    0.3021 /     0.3021 /     0.3021</td><td>edbdcd5c-8e04-11ea-aa9b-0242ac110002</td></tr><tr><td>LightGBM</td><td>median</td><td>MelbCity</td><td>Mornington</td><td>    0.0454 /     0.0828 /     0.1088</td><td>    0.0936 /     0.1365 /     0.1618</td><td>8f3d05ce-b135-11ea-bd14-258eb2a3aad9</td></tr><tr><td>ADDA</td><td>median</td><td>MelbCity</td><td>Mornington</td><td>    0.0965 /     0.0965 /     0.0965</td><td>    0.3106 /     0.3106 /     0.3106</td><td>edbdcd5c-8e03-11ea-aa9b-0242ac110002</td></tr><tr><td>ADDA</td><td>median</td><td>MelbCity</td><td>Mornington</td><td>    0.0929 /     0.0929 /     0.0929</td><td>    0.3047 /     0.3047 /     0.3047</td><td>edbdcd5c-8e02-11ea-aa9b-0242ac110002</td></tr><tr><td>FNN</td><td>median</td><td>MelbCity</td><td>Mornington</td><td>    0.0536 /     0.0895 /     0.1188</td><td>    0.0988 /     0.1456 /     0.1771</td><td>a31de0f6-b133-11ea-bed3-0242ac110002</td></tr><tr><td>ADDA</td><td>median</td><td>MelbCity</td><td>Mornington</td><td>    0.0934 /     0.0936 /     0.0933</td><td>    0.3056 /     0.3059 /     0.3055</td><td>ca927310-b54b-11ea-8e53-0242ac110002</td></tr><tr><td>ADDA</td><td>median</td><td>MelbCity</td><td>Mornington</td><td>    0.1013 /     0.1011 /     0.1007</td><td>    0.3182 /     0.3180 /     0.3173</td><td>32ae29fc-b552-11ea-add6-0242ac110003</td></tr><tr><td>ADDA</td><td>median</td><td>MelbCity</td><td>Mornington</td><td>    0.0924 /     0.0925 /     0.0924</td><td>    0.3039 /     0.3042 /     0.3040</td><td>32b009ac-b552-11ea-add6-0242ac110003</td></tr><tr><td>ADDA</td><td>median</td><td>MelbCity</td><td>Mornington</td><td>    0.0933 /     0.0938 /     0.0934</td><td>    0.3055 /     0.3062 /     0.3056</td><td>3b9cfd1e-b5f6-11ea-a595-0242ac110003</td></tr><tr><td>ADDA</td><td>median</td><td>MelbCity</td><td>Mornington</td><td>    0.2560 /     0.2564 /     0.2557</td><td>    0.3010 /     0.3014 /     0.3008</td><td>32ac52e4-b552-11ea-add6-0242ac110003</td></tr><tr><td>HA</td><td>median</td><td>MelbCity</td><td>Mornington</td><td>    0.0737 /     0.0984 /     0.1263</td><td>    0.1353 /     0.1710 /     0.2071</td><td>9ad462f4-b7bd-11ea-9d99-6161b25c8e9d</td></tr></table>"
      ],
      "text/plain": [
       "<IPython.core.display.HTML object>"
      ]
     },
     "metadata": {},
     "output_type": "display_data"
    }
   ],
   "source": [
    "showEXP2Result(\"./eptest/median-melb-50/exp.json\")"
   ]
  },
  {
   "cell_type": "code",
   "execution_count": 14,
   "metadata": {
    "ExecuteTime": {
     "end_time": "2020-06-24T09:48:24.655225Z",
     "start_time": "2020-06-24T09:48:24.627103Z"
    }
   },
   "outputs": [
    {
     "data": {
      "text/html": [
       "<h3>Baseline Models (./eptest/mode-melb/exp.json) </h3><table><tr><th>Model</th><th>Matching Metric</th><th>Matching Source</th><th>Location</th><th>MAE (5/15/30 mins)</th><th>RMSE (5/15/30 mins)</th><th>R2 (5/15/30 mins)</th><th>EID</th></tr><tr><td>LSTM</td><td>mode</td><td>MelbCity</td><td>MelbCity</td><td>    0.0605 /     0.1027 /     0.1367</td><td>  0.133152 /   0.185272 /   0.210545</td><td>  0.806215 /   0.626255 /   0.516928</td><td>81347532-88ce-11ea-b1c4-0242ac110002</td></tr><tr><td>LSTM</td><td>mode</td><td>MelbCity</td><td>Mornington</td><td>    0.0392 /     0.0774 /     0.1117</td><td>  0.100147 /   0.155182 /   0.195903</td><td>  0.889995 /   0.734681 /   0.577078</td><td>8138ca4c-88ce-11ea-b1c4-0242ac110002</td></tr><tr><td>LightGBM</td><td>mode</td><td>MelbCity</td><td>MelbCity</td><td>    0.0705 /     0.1073 /     0.1300</td><td>  0.118869 /   0.156939 /   0.179213</td><td>  0.845561 /   0.731826 /   0.650008</td><td>f460bc34-b135-11ea-90c4-9978f22ce15d</td></tr><tr><td>LightGBM</td><td>mode</td><td>MelbCity</td><td>Mornington</td><td>    0.0460 /     0.0827 /     0.1092</td><td>  0.094247 /   0.136030 /   0.161968</td><td>  0.902574 /   0.796132 /   0.710907</td><td>f46287a8-b135-11ea-90c4-9978f22ce15d</td></tr><tr><td>FNN</td><td>mode</td><td>MelbCity</td><td>MelbCity</td><td>    0.0757 /     0.1143 /     0.1400</td><td>  0.126008 /   0.166981 /   0.193839</td><td>  0.826452 /   0.696409 /   0.590550</td><td>e541c9b6-b133-11ea-9dc2-0242ac110003</td></tr><tr><td>FNN</td><td>mode</td><td>MelbCity</td><td>Mornington</td><td>    0.0521 /     0.0902 /     0.1220</td><td>  0.098953 /   0.145456 /   0.176851</td><td>  0.892602 /   0.766899 /   0.655338</td><td>e5460d6e-b133-11ea-9dc2-0242ac110003</td></tr><tr><td>FNN</td><td>mode</td><td>MelbCity</td><td>MelbCity</td><td>    0.0753 /     0.1143 /     0.1407</td><td>  0.125768 /   0.167097 /   0.193974</td><td>  0.827112 /   0.695987 /   0.589977</td><td>d8195aa0-b134-11ea-9c2e-0242ac110003</td></tr><tr><td>FNN</td><td>mode</td><td>MelbCity</td><td>Mornington</td><td>    0.0529 /     0.0901 /     0.1203</td><td>  0.099443 /   0.145717 /   0.177117</td><td>  0.891536 /   0.766061 /   0.654299</td><td>da39a4b6-b134-11ea-9c2e-0242ac110003</td></tr></table>"
      ],
      "text/plain": [
       "<IPython.core.display.HTML object>"
      ]
     },
     "metadata": {},
     "output_type": "display_data"
    },
    {
     "data": {
      "text/html": [
       "<h3>Transfer Learning Models (./eptest/mode-melb/exp.json)</h3><table><tr><th>Model</th><th>Matching Metric</th><th>Matching Source</th><th>Srouce</th><th>Target</th><th>Source MAE (5/15/30 mins)</th><th>Srouce RMSE (5/15/30 mins)</th><th>Target MAE (5/15/30 mins)</th><th>Target RMSE (5/15/30 mins)</th><th>EID</th></tr><tr><td>ADDA</td><td>mode</td><td>MelbCity</td><td>MelbCity</td><td>Mornington</td><td>  0.095289 /   0.095289 /   0.095289</td><td>  0.308690 /   0.308690 /   0.308690</td><td>  0.091411 /   0.091411 /   0.091411</td><td>  0.302342 /   0.302342 /   0.302342</td><td>57ed7f2c-8b83-11ea-9cfa-0242ac110003</td></tr><tr><td>ADDA</td><td>mode</td><td>MelbCity</td><td>MelbCity</td><td>Mornington</td><td>  0.098498 /   0.098498 /   0.098498</td><td>  0.313844 /   0.313844 /   0.313844</td><td>  0.101976 /   0.101976 /   0.101976</td><td>  0.319337 /   0.319337 /   0.319337</td><td>edbca5b2-8e05-11ea-aa9b-0242ac110002</td></tr><tr><td>ADDA</td><td>mode</td><td>MelbCity</td><td>MelbCity</td><td>Mornington</td><td>  0.096871 /   0.096871 /   0.096871</td><td>  0.311241 /   0.311241 /   0.311241</td><td>  0.091489 /   0.091489 /   0.091489</td><td>  0.302472 /   0.302472 /   0.302472</td><td>edbdcd5c-8e04-11ea-aa9b-0242ac110002</td></tr><tr><td>ADDA</td><td>mode</td><td>MelbCity</td><td>MelbCity</td><td>Mornington</td><td>  0.098498 /   0.098498 /   0.098498</td><td>  0.313844 /   0.313844 /   0.313844</td><td>  0.101976 /   0.101976 /   0.101976</td><td>  0.319337 /   0.319337 /   0.319337</td><td>edbdcd5c-8e03-11ea-aa9b-0242ac110002</td></tr><tr><td>ADDA</td><td>mode</td><td>MelbCity</td><td>MelbCity</td><td>Mornington</td><td>  0.096556 /   0.096556 /   0.096556</td><td>  0.310735 /   0.310735 /   0.310735</td><td>  0.120285 /   0.120285 /   0.120285</td><td>  0.346821 /   0.346821 /   0.346821</td><td>edbdcd5c-8e02-11ea-aa9b-0242ac110002</td></tr><tr><td>ADDA</td><td>mode</td><td>MelbCity</td><td>MelbCity</td><td>Mornington</td><td>  0.096841 /   0.096349 /   0.096481</td><td>  0.311193 /   0.310402 /   0.310614</td><td>  0.094636 /   0.094248 /   0.094119</td><td>  0.307630 /   0.306999 /   0.306788</td><td>3ba37748-b5f6-11ea-a595-0242ac110003</td></tr></table>"
      ],
      "text/plain": [
       "<IPython.core.display.HTML object>"
      ]
     },
     "metadata": {},
     "output_type": "display_data"
    }
   ],
   "source": [
    "showEXPResult(\"./eptest/mode-melb/exp.json\")"
   ]
  },
  {
   "cell_type": "code",
   "execution_count": 5,
   "metadata": {
    "ExecuteTime": {
     "end_time": "2020-06-24T08:00:36.552971Z",
     "start_time": "2020-06-24T08:00:36.526536Z"
    }
   },
   "outputs": [
    {
     "data": {
      "text/html": [
       "<h3>Baseline Models (./eptest/median-mps/exp.json) </h3><table><tr><th>Model</th><th>Matching Metric</th><th>Matching Source</th><th>Location</th><th>MAE (5/15/30 mins)</th><th>RMSE (5/15/30 mins)</th><th>R2 (5/15/30 mins)</th><th>EID</th></tr><tr><td>LSTM</td><td>median</td><td>Mornington</td><td>MelbCity</td><td>  0.059507 /   0.102961 /   0.137661</td><td>  0.133523 /   0.184796 /   0.211919</td><td>  0.805353 /   0.628031 /   0.509878</td><td>7ba681a4-8884-11ea-be3a-0242ac110002</td></tr><tr><td>LSTM</td><td>median</td><td>Mornington</td><td>Mornington</td><td>  0.039359 /   0.078107 /   0.112525</td><td>  0.100421 /   0.157589 /   0.197204</td><td>  0.889623 /   0.729161 /   0.573834</td><td>480c9d62-8922-11ea-8e77-0242ac110002</td></tr><tr><td>LightGBM</td><td>median</td><td>Mornington</td><td>Mornington</td><td>  0.046031 /   0.082473 /   0.108677</td><td>  0.094525 /   0.136527 /   0.162000</td><td>  0.901826 /   0.794336 /   0.710322</td><td>4ef16a18-b136-11ea-be74-8d5c87258244</td></tr><tr><td>LightGBM</td><td>median</td><td>Mornington</td><td>MelbCity</td><td>  0.070596 /   0.107455 /   0.130372</td><td>  0.119702 /   0.156879 /   0.179673</td><td>  0.844060 /   0.732164 /   0.649885</td><td>4eea6a7e-b136-11ea-be74-8d5c87258244</td></tr><tr><td>FNN</td><td>median</td><td>Mornington</td><td>MelbCity</td><td>  0.075536 /   0.115143 /   0.141218</td><td>  0.126663 /   0.167308 /   0.194180</td><td>  0.825395 /   0.695369 /   0.591068</td><td>a319c976-b133-11ea-bed3-0242ac110002</td></tr><tr><td>FNN</td><td>median</td><td>Mornington</td><td>Mornington</td><td>  0.051949 /   0.090234 /   0.121087</td><td>  0.098582 /   0.145474 /   0.177604</td><td>  0.892743 /   0.766769 /   0.652685</td><td>a31de0f6-b133-11ea-bed3-0242ac110002</td></tr></table>"
      ],
      "text/plain": [
       "<IPython.core.display.HTML object>"
      ]
     },
     "metadata": {},
     "output_type": "display_data"
    },
    {
     "data": {
      "text/html": [
       "<h3>Transfer Learning Models (./eptest/median-mps/exp.json)</h3><table><tr><th>Model</th><th>Matching Metric</th><th>Matching Source</th><th>Srouce</th><th>Target</th><th>Source MAE (5/15/30 mins)</th><th>Srouce RMSE (5/15/30 mins)</th><th>Target MAE (5/15/30 mins)</th><th>Target RMSE (5/15/30 mins)</th><th>EID</th></tr><tr><td>ADDA</td><td>median</td><td>Mornington</td><td>MelbCity</td><td>Mornington</td><td>  0.095077 /   0.095077 /   0.095077</td><td>  0.308346 /   0.308346 /   0.308346</td><td>  0.091429 /   0.091429 /   0.091429</td><td>  0.302372 /   0.302372 /   0.302372</td><td>57ed7f2c-8b83-11ea-9cfa-0242ac110003</td></tr><tr><td>ADDA</td><td>median</td><td>Mornington</td><td>MelbCity</td><td>Mornington</td><td>  0.097353 /   0.097353 /   0.097353</td><td>  0.312015 /   0.312015 /   0.312015</td><td>  0.094225 /   0.094225 /   0.094225</td><td>  0.306960 /   0.306960 /   0.306960</td><td>edbca5b2-8e05-11ea-aa9b-0242ac110002</td></tr><tr><td>ADDA</td><td>median</td><td>Mornington</td><td>MelbCity</td><td>Mornington</td><td>  0.095173 /   0.095173 /   0.095173</td><td>  0.308501 /   0.308501 /   0.308501</td><td>  0.091173 /   0.091173 /   0.091173</td><td>  0.301948 /   0.301948 /   0.301948</td><td>edbdcd5c-8e04-11ea-aa9b-0242ac110002</td></tr><tr><td>ADDA</td><td>median</td><td>Mornington</td><td>MelbCity</td><td>Mornington</td><td>  0.097353 /   0.097353 /   0.097353</td><td>  0.312015 /   0.312015 /   0.312015</td><td>  0.094225 /   0.094225 /   0.094225</td><td>  0.306960 /   0.306960 /   0.306960</td><td>edbdcd5c-8e03-11ea-aa9b-0242ac110002</td></tr><tr><td>ADDA</td><td>median</td><td>Mornington</td><td>MelbCity</td><td>Mornington</td><td>  0.095816 /   0.095816 /   0.095816</td><td>  0.309541 /   0.309541 /   0.309541</td><td>  0.090676 /   0.090676 /   0.090676</td><td>  0.301125 /   0.301125 /   0.301125</td><td>edbdcd5c-8e02-11ea-aa9b-0242ac110002</td></tr></table>"
      ],
      "text/plain": [
       "<IPython.core.display.HTML object>"
      ]
     },
     "metadata": {},
     "output_type": "display_data"
    }
   ],
   "source": [
    "showEXPResult(\"./eptest/median-mps/exp.json\")"
   ]
  },
  {
   "cell_type": "code",
   "execution_count": 6,
   "metadata": {
    "ExecuteTime": {
     "end_time": "2020-06-24T08:00:37.012724Z",
     "start_time": "2020-06-24T08:00:36.986970Z"
    }
   },
   "outputs": [
    {
     "data": {
      "text/html": [
       "<h3>Baseline Models (./eptest/mode-mps/exp.json) </h3><table><tr><th>Model</th><th>Matching Metric</th><th>Matching Source</th><th>Location</th><th>MAE (5/15/30 mins)</th><th>RMSE (5/15/30 mins)</th><th>R2 (5/15/30 mins)</th><th>EID</th></tr><tr><td>LSTM</td><td>mode</td><td>Mornington</td><td>MelbCity</td><td>  0.060451 /   0.103159 /   0.136922</td><td>  0.135379 /   0.184439 /   0.210421</td><td>  0.799999 /   0.628214 /   0.518324</td><td>48090544-8922-11ea-8e77-0242ac110002</td></tr><tr><td>LSTM</td><td>mode</td><td>Mornington</td><td>Mornington</td><td>  0.039902 /   0.077594 /   0.111786</td><td>  0.102122 /   0.156285 /   0.196271</td><td>  0.885040 /   0.731388 /   0.576917</td><td>480c9d62-8922-11ea-8e77-0242ac110002</td></tr><tr><td>LightGBM</td><td>mode</td><td>Mornington</td><td>MelbCity</td><td>  0.070841 /   0.107416 /   0.129932</td><td>  0.119986 /   0.156757 /   0.178981</td><td>  0.842896 /   0.731442 /   0.651510</td><td>580359da-b137-11ea-a5f8-13a627075a42</td></tr><tr><td>LightGBM</td><td>mode</td><td>Mornington</td><td>Mornington</td><td>  0.046275 /   0.082596 /   0.108516</td><td>  0.095549 /   0.136193 /   0.161277</td><td>  0.899362 /   0.796014 /   0.714334</td><td>581257aa-b137-11ea-a5f8-13a627075a42</td></tr><tr><td>FNN</td><td>mode</td><td>Mornington</td><td>MelbCity</td><td>  0.076580 /   0.114924 /   0.140560</td><td>  0.127283 /   0.167195 /   0.193445</td><td>  0.823207 /   0.694484 /   0.592908</td><td>a319c976-b133-11ea-bed3-0242ac110002</td></tr><tr><td>FNN</td><td>mode</td><td>Mornington</td><td>Mornington</td><td>  0.051191 /   0.088494 /   0.120652</td><td>  0.100420 /   0.145700 /   0.177476</td><td>  0.888841 /   0.766545 /   0.654070</td><td>a31de0f6-b133-11ea-bed3-0242ac110002</td></tr></table>"
      ],
      "text/plain": [
       "<IPython.core.display.HTML object>"
      ]
     },
     "metadata": {},
     "output_type": "display_data"
    },
    {
     "data": {
      "text/html": [
       "<h3>Transfer Learning Models (./eptest/mode-mps/exp.json)</h3><table><tr><th>Model</th><th>Matching Metric</th><th>Matching Source</th><th>Srouce</th><th>Target</th><th>Source MAE (5/15/30 mins)</th><th>Srouce RMSE (5/15/30 mins)</th><th>Target MAE (5/15/30 mins)</th><th>Target RMSE (5/15/30 mins)</th><th>EID</th></tr><tr><td>ADDA</td><td>mode</td><td>Mornington</td><td>MelbCity</td><td>Mornington</td><td>  0.095653 /   0.095653 /   0.095653</td><td>  0.309278 /   0.309278 /   0.309278</td><td>  0.091431 /   0.091431 /   0.091431</td><td>  0.302376 /   0.302376 /   0.302376</td><td>57ed7f2c-8b83-11ea-9cfa-0242ac110003</td></tr><tr><td>ADDA</td><td>mode</td><td>Mornington</td><td>MelbCity</td><td>Mornington</td><td>  0.097036 /   0.097036 /   0.097036</td><td>  0.311506 /   0.311506 /   0.311506</td><td>  0.095979 /   0.095979 /   0.095979</td><td>  0.309805 /   0.309805 /   0.309805</td><td>edbca5b2-8e05-11ea-aa9b-0242ac110002</td></tr><tr><td>ADDA</td><td>mode</td><td>Mornington</td><td>MelbCity</td><td>Mornington</td><td>  0.095521 /   0.095521 /   0.095521</td><td>  0.309065 /   0.309065 /   0.309065</td><td>  0.091043 /   0.091043 /   0.091043</td><td>  0.301734 /   0.301734 /   0.301734</td><td>edbdcd5c-8e04-11ea-aa9b-0242ac110002</td></tr><tr><td>ADDA</td><td>mode</td><td>Mornington</td><td>MelbCity</td><td>Mornington</td><td>  0.097036 /   0.097036 /   0.097036</td><td>  0.311506 /   0.311506 /   0.311506</td><td>  0.095979 /   0.095979 /   0.095979</td><td>  0.309805 /   0.309805 /   0.309805</td><td>edbdcd5c-8e03-11ea-aa9b-0242ac110002</td></tr><tr><td>ADDA</td><td>mode</td><td>Mornington</td><td>MelbCity</td><td>Mornington</td><td>  0.096005 /   0.096005 /   0.096005</td><td>  0.309847 /   0.309847 /   0.309847</td><td>  0.096043 /   0.096043 /   0.096043</td><td>  0.309909 /   0.309909 /   0.309909</td><td>edbdcd5c-8e02-11ea-aa9b-0242ac110002</td></tr></table>"
      ],
      "text/plain": [
       "<IPython.core.display.HTML object>"
      ]
     },
     "metadata": {},
     "output_type": "display_data"
    }
   ],
   "source": [
    "showEXPResult(\"./eptest/mode-mps/exp.json\")"
   ]
  },
  {
   "cell_type": "code",
   "execution_count": null,
   "metadata": {},
   "outputs": [],
   "source": []
  },
  {
   "cell_type": "code",
   "execution_count": null,
   "metadata": {},
   "outputs": [],
   "source": []
  },
  {
   "cell_type": "code",
   "execution_count": null,
   "metadata": {},
   "outputs": [],
   "source": []
  }
 ],
 "metadata": {
  "hide_input": false,
  "kernelspec": {
   "display_name": "Python 3",
   "language": "python",
   "name": "python3"
  },
  "language_info": {
   "codemirror_mode": {
    "name": "ipython",
    "version": 3
   },
   "file_extension": ".py",
   "mimetype": "text/x-python",
   "name": "python",
   "nbconvert_exporter": "python",
   "pygments_lexer": "ipython3",
   "version": "3.7.6"
  },
  "toc": {
   "base_numbering": 1,
   "nav_menu": {},
   "number_sections": true,
   "sideBar": true,
   "skip_h1_title": false,
   "title_cell": "Table of Contents",
   "title_sidebar": "Contents",
   "toc_cell": false,
   "toc_position": {},
   "toc_section_display": true,
   "toc_window_display": false
  },
  "varInspector": {
   "cols": {
    "lenName": 16,
    "lenType": 16,
    "lenVar": 40
   },
   "kernels_config": {
    "python": {
     "delete_cmd_postfix": "",
     "delete_cmd_prefix": "del ",
     "library": "var_list.py",
     "varRefreshCmd": "print(var_dic_list())"
    },
    "r": {
     "delete_cmd_postfix": ") ",
     "delete_cmd_prefix": "rm(",
     "library": "var_list.r",
     "varRefreshCmd": "cat(var_dic_list()) "
    }
   },
   "types_to_exclude": [
    "module",
    "function",
    "builtin_function_or_method",
    "instance",
    "_Feature"
   ],
   "window_display": false
  }
 },
 "nbformat": 4,
 "nbformat_minor": 4
}
